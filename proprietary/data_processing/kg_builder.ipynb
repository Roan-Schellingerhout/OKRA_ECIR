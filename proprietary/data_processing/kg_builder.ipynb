{
 "cells": [
  {
   "cell_type": "code",
   "execution_count": null,
   "id": "4da68d15-93d9-4a29-b483-93d0ad8d40ee",
   "metadata": {
    "tags": []
   },
   "outputs": [],
   "source": [
    "pip install -q kglab;"
   ]
  },
  {
   "cell_type": "code",
   "execution_count": null,
   "id": "26828375-33c3-46c0-8a30-574543673c0b",
   "metadata": {
    "tags": []
   },
   "outputs": [],
   "source": [
    "import kglab\n",
    "import pickle\n",
    "import rdflib \n",
    "import re\n",
    "\n",
    "import networkx as nx\n",
    "import pandas as pd\n",
    "import numpy as np\n",
    "\n",
    "from tqdm.notebook import tqdm"
   ]
  },
  {
   "cell_type": "code",
   "execution_count": null,
   "id": "92933dda-3c56-4acc-adc9-f565aab8a2d1",
   "metadata": {
    "tags": []
   },
   "outputs": [],
   "source": [
    "df_cv_vac_pairs = pd.read_csv(\"./cleaner_data/cv-vacancy-pairs.csv\")"
   ]
  },
  {
   "cell_type": "code",
   "execution_count": null,
   "id": "d9dd46c4-a6f4-4787-8ba1-c246af316d79",
   "metadata": {
    "tags": []
   },
   "outputs": [],
   "source": [
    "candidates_with_data = set(df_cv_vac_pairs[\"candidate_id\"].unique())"
   ]
  },
  {
   "cell_type": "code",
   "execution_count": null,
   "id": "f1b7c805-ac8b-42cb-a608-f2ecdfb92626",
   "metadata": {
    "tags": []
   },
   "outputs": [],
   "source": [
    "namespaces = {\n",
    "    \"rnp\" : \"http://randstad.com/property/\",\n",
    "    \"rnd\" : \"http://randstad.com/ontology/\",\n",
    "    \"rne\" : \"http://randstad.com/entity/\",\n",
    "    \"dbp\": \"http://dbpedia.org/property/\",\n",
    "    \"dbo\": \"http://dbpedia.org/ontology/\",\n",
    "    \"dbr\": \"http://dbpedia.org/resource/\",\n",
    "    \"owl\": \"http://www.w3.org/2002/07/owl#\",\n",
    "    \"rdfs\": \"http://www.w3.org/2000/01/rdf-schema#\",\n",
    "    \"foaf\": \"http://xmlns.com/foaf/0.1/\"\n",
    "}"
   ]
  },
  {
   "cell_type": "code",
   "execution_count": null,
   "id": "f08ee95b-bb20-4060-9ddb-e496dea72be9",
   "metadata": {
    "tags": []
   },
   "outputs": [],
   "source": [
    "kg = kglab.KnowledgeGraph(\n",
    "    name = \"Randstad KG\",\n",
    "    namespaces = namespaces,\n",
    "    base_uri = \"https://www.example.com/entity/\")"
   ]
  },
  {
   "cell_type": "code",
   "execution_count": null,
   "id": "f644f6f1-2ee4-4aeb-8dfa-e875eefbd491",
   "metadata": {
    "tags": []
   },
   "outputs": [],
   "source": [
    "iscos = pd.read_csv(\"isco.csv\", encoding=\"cp850\")\n",
    "iscos = iscos[iscos[\"ISCO_version\"] == \"ISCO-08\"]\n",
    "\n",
    "iscos.head()"
   ]
  },
  {
   "cell_type": "code",
   "execution_count": null,
   "id": "987b3465-7ff2-4389-b26a-d8f1befc4c81",
   "metadata": {
    "tags": []
   },
   "outputs": [],
   "source": [
    "# Define ontology lay-out\n",
    "\n",
    "# Classes\n",
    "\n",
    "# Candidate is a class, and a candidate is a person\n",
    "kg.add(kg.get_ns(\"rnd\").Candidate, kg.get_ns(\"rdf\").type, kg.get_ns(\"owl\").Class)\n",
    "kg.add(kg.get_ns(\"rnd\").Candidate, kg.get_ns(\"rdfs\").subClassOf, kg.get_ns(\"foaf\").Person)\n",
    "\n",
    "# Function is a class, and is equivalent to employment\n",
    "kg.add(kg.get_ns(\"rnd\").Function, kg.get_ns(\"rdf\").type, kg.get_ns(\"owl\").Class)\n",
    "kg.add(kg.get_ns(\"rnd\").Function, kg.get_ns(\"owl\").equivalentClass, kg.get_ns(\"dbr\").Employment)\n",
    "\n",
    "# Position is a class\n",
    "kg.add(kg.get_ns(\"rnd\").Position, kg.get_ns(\"rdf\").type, kg.get_ns(\"owl\").Class)\n",
    "\n",
    "# Add educations and their ordering\n",
    "edus = [\"University\", \"Vocational_university\", \"Vocational_school\", \"Secondary_education\", \"Primary_education\"] # [\"Primary_education\", \"Secondary_education\", \"Vocational_school\", \"Vocational_university\", \"University\"]\n",
    "\n",
    "for i, edu in enumerate(edus):\n",
    "    kg.add(eval(f\"kg.get_ns('rne').{edu}\"), kg.get_ns(\"rdf\").type, kg.get_ns(\"rnd\").Education)\n",
    "    \n",
    "    for edu2 in edus[i+1:]:\n",
    "        kg.add(eval(f\"kg.get_ns('rne').{edu}\"), kg.get_ns(\"rnp\").supersedes, eval(f\"kg.get_ns('rne').{edu2}\"))\n",
    "\n",
    "# Company is a class, it offers functions, and candidates work there\n",
    "kg.add(kg.get_ns(\"rnd\").Company, kg.get_ns(\"rdf\").type, kg.get_ns(\"owl\").Class)\n",
    "kg.add(kg.get_ns(\"rnd\").Company, kg.get_ns(\"rnp\").offers_function, kg.get_ns(\"rnd\").Function)\n",
    "kg.add(kg.get_ns(\"rnd\").Candidate, kg.get_ns(\"rnp\").has_worked_at, kg.get_ns(\"rnd\").Company)\n",
    "\n",
    "# An ISCO code is a class, and all sub-codes fall under that class\n",
    "kg.add(kg.get_ns(\"rnd\").ISCO_code, kg.get_ns(\"rdf\").type, kg.get_ns(\"owl\").Class)\n",
    "kg.add(kg.get_ns(\"rnd\").ISCO_unit, kg.get_ns(\"rdfs\").subClassOf, kg.get_ns(\"rnd\").ISCO_code)\n",
    "kg.add(kg.get_ns(\"rnd\").ISCO_minor, kg.get_ns(\"rdfs\").subClassOf, kg.get_ns(\"rnd\").ISCO_code)\n",
    "kg.add(kg.get_ns(\"rnd\").ISCO_sub_major, kg.get_ns(\"rdfs\").subClassOf, kg.get_ns(\"rnd\").ISCO_code)\n",
    "kg.add(kg.get_ns(\"rnd\").ISCO_major, kg.get_ns(\"rdfs\").subClassOf, kg.get_ns(\"rnd\").ISCO_code)\n",
    "\n",
    "# Add skill, language, and license class\n",
    "kg.add(kg.get_ns(\"rnd\").Skill, kg.get_ns(\"rdf\").type, kg.get_ns(\"owl\").Class)\n",
    "kg.add(kg.get_ns(\"rnd\").Language, kg.get_ns(\"rdf\").type, kg.get_ns(\"owl\").Class)\n",
    "kg.add(kg.get_ns(\"rnd\").License, kg.get_ns(\"rdf\").type, kg.get_ns(\"owl\").Class)\n",
    "\n",
    "# Isco levels\n",
    "for row in iscos.itertuples():\n",
    "    # Unit\n",
    "    kg.add(eval(f\"kg.get_ns('rne').isco{row[8]}\"), kg.get_ns(\"rdf\").type, kg.get_ns(\"rnd\").ISCO_unit)\n",
    "    kg.add(eval(f\"kg.get_ns('rne').isco{row[8]}\"), kg.get_ns(\"rnp\").falls_under, eval(f\"kg.get_ns('rne').isco{row[6]}\"))\n",
    "    kg.add(eval(f\"kg.get_ns('rne').isco{row[8]}\"), kg.get_ns(\"rdfs\").comment, rdflib.Literal(row[9]))\n",
    "    \n",
    "    # Minor\n",
    "    kg.add(eval(f\"kg.get_ns('rne').isco{row[6]}\"), kg.get_ns(\"rdf\").type, kg.get_ns(\"rnd\").ISCO_minor)\n",
    "    kg.add(eval(f\"kg.get_ns('rne').isco{row[6]}\"), kg.get_ns(\"rnp\").falls_under, eval(f\"kg.get_ns('rne').isco{int(row[4])}\"))\n",
    "    kg.add(eval(f\"kg.get_ns('rne').isco{row[6]}\"), kg.get_ns(\"rdfs\").comment, rdflib.Literal(row[7]))\n",
    "\n",
    "    # Sub_major\n",
    "    kg.add(eval(f\"kg.get_ns('rne').isco{int(row[4])}\"), kg.get_ns(\"rdf\").type, kg.get_ns(\"rnd\").ISCO_sub_major)\n",
    "    kg.add(eval(f\"kg.get_ns('rne').isco{int(row[4])}\"), kg.get_ns(\"rnp\").falls_under, eval(f\"kg.get_ns('rne').isco{row[2]}\"))\n",
    "    kg.add(eval(f\"kg.get_ns('rne').isco{int(row[4])}\"), kg.get_ns(\"rdfs\").comment, rdflib.Literal(row[5]))\n",
    "\n",
    "    # Major\n",
    "    kg.add(eval(f\"kg.get_ns('rne').isco{row[2]}\"), kg.get_ns(\"rdf\").type, kg.get_ns(\"rnd\").ISCO_major)\n",
    "    kg.add(eval(f\"kg.get_ns('rne').isco{row[2]}\"), kg.get_ns(\"rdfs\").comment, rdflib.Literal(row[3]))\n",
    "    \n",
    "# Properties\n",
    "kg.add(kg.get_ns(\"rnp\").offers_function, kg.get_ns(\"owl\").inverseOf, kg.get_ns(\"rnp\").function_is_offered_by)\n",
    "\n",
    "kg.add(kg.get_ns(\"rnp\").has_worked_at, kg.get_ns(\"owl\").inverseOf, kg.get_ns(\"rnp\").has_employed)\n",
    "\n",
    "kg.add(kg.get_ns(\"rnp\").supersedes, kg.get_ns(\"owl\").inverseOf, kg.get_ns(\"rnp\").subsedes)\n",
    "\n",
    "kg.add(kg.get_ns(\"rnp\").falls_under, kg.get_ns(\"owl\").inverseOf, kg.get_ns(\"rnp\").encompasses)\n",
    "\n",
    "\n",
    "# All the inverses of the regular edges\n",
    "# kg.add(kg.get_ns(\"rnp\").has_skill, kg.get_ns(\"owl\").inverseOf, kg.get_ns(\"rnp\").is_skill_of)\n",
    "\n",
    "# kg.add(kg.get_ns(\"rnp\").code_is_level, kg.get_ns(\"owl\").inverseOf, kg.get_ns(\"rnp\").level_of_code)\n",
    "\n",
    "# kg.add(kg.get_ns(\"rnp\").worked_at_company, kg.get_ns(\"owl\").inverseOf, kg.get_ns(\"rnp\").has_employed)\n",
    "\n",
    "# kg.add(kg.get_ns(\"rnp\").has_worked_function, kg.get_ns(\"owl\").inverseOf, kg.get_ns(\"rnp\").has_been_function_of)\n",
    "\n",
    "# kg.add(kg.get_ns(\"rnp\").has_function_id, kg.get_ns(\"owl\").inverseOf, kg.get_ns(\"rnp\").is_function_id_of)\n",
    "\n",
    "# kg.add(kg.get_ns(\"rnp\").has_isco_level, kg.get_ns(\"owl\").inverseOf, kg.get_ns(\"rnp\").is_isco_level_of)\n",
    "\n",
    "# kg.add(kg.get_ns(\"rnp\").has_isco_code, kg.get_ns(\"owl\").inverseOf, kg.get_ns(\"rnp\").is_isco_code_of)\n",
    "\n",
    "# kg.add(kg.get_ns(\"rnp\").part_of_workgroup, kg.get_ns(\"owl\").inverseOf, kg.get_ns(\"rnp\").is_workgroup_of)\n",
    "\n",
    "# kg.add(kg.get_ns(\"rnp\").has_function_name, kg.get_ns(\"owl\").inverseOf, kg.get_ns(\"rnp\").is_function_name_of)\n",
    "\n",
    "# kg.add(kg.get_ns(\"rnp\").has_company_name, kg.get_ns(\"owl\").inverseOf, kg.get_ns(\"rnp\").is_company_name_of)\n",
    "\n",
    "# kg.add(kg.get_ns(\"rnp\").requires_education, kg.get_ns(\"owl\").inverseOf, kg.get_ns(\"rnp\").is_required_education_of)\n",
    "\n",
    "# kg.add(kg.get_ns(\"rnp\").has_isco, kg.get_ns(\"owl\").inverseOf, kg.get_ns(\"rnp\").is_isco_of)\n",
    "\n",
    "# kg.add(kg.get_ns(\"rnp\").speaks_language, kg.get_ns(\"owl\").inverseOf, kg.get_ns(\"rnp\").is_spoken_by)\n",
    "\n",
    "# kg.add(kg.get_ns(\"rnp\").has_license, kg.get_ns(\"owl\").inverseOf, kg.get_ns(\"rnp\").is_license_of)\n",
    "\n",
    "# kg.add(kg.get_ns(\"rnp\").cv, kg.get_ns(\"owl\").inverseOf, kg.get_ns(\"rnp\").is_cv_of)\n",
    "\n",
    "# kg.add(kg.get_ns(\"rnp\").vacancy, kg.get_ns(\"owl\").inverseOf, kg.get_ns(\"rnp\").is_vacancy_of)\n",
    "\n",
    "# Falls under is transitive\n",
    "kg.add(kg.get_ns(\"rnp\").falls_under, kg.get_ns(\"rdf\").type, kg.get_ns(\"owl\").TransitiveProperty)"
   ]
  },
  {
   "cell_type": "code",
   "execution_count": null,
   "id": "47152ef7-2b28-4a7e-8417-e22223c38744",
   "metadata": {
    "tags": []
   },
   "outputs": [],
   "source": [
    "measure = kglab.Measure()\n",
    "measure.measure_graph(kg)\n",
    "\n",
    "print(\"edges before inference\", measure.get_edge_count())\n",
    "print(\"nodes before inference\", measure.get_node_count())\n",
    "\n",
    "# Do all the nifty inference\n",
    "kg.infer_owlrl_closure()\n",
    "\n",
    "measure.measure_graph(kg)\n",
    "\n",
    "print()\n",
    "print(\"edges after inference\", measure.get_edge_count())\n",
    "print(\"nodes after inference\", measure.get_node_count())"
   ]
  },
  {
   "cell_type": "markdown",
   "id": "40332a55-1a86-498d-ab62-d430a909d00d",
   "metadata": {},
   "source": [
    "## Candidates and experience"
   ]
  },
  {
   "cell_type": "code",
   "execution_count": null,
   "id": "f5a76e7e-62e8-435a-8ef5-63e35b75d583",
   "metadata": {
    "tags": []
   },
   "outputs": [],
   "source": [
    "# Normalize candidate work experience\n",
    "df_exp = pd.read_csv(\"./cleaner_data/work_experience.csv\")\n",
    "\n",
    "df_exp = df_exp.set_index(\"Unnamed: 0\")\n",
    "\n",
    "df_exp[\"function_name_self\"] = df_exp[\"function_name_self\"].str.lower()\n",
    "df_exp[\"function_name_self\"] = df_exp[\"function_name_self\"].str.replace('[^a-zA-Z0-9]', '_', regex=True).str.strip()\n",
    "\n",
    "df_exp[\"company_name\"] = df_exp[\"company_name\"].str.lower()\n",
    "df_exp[\"company_name\"] = df_exp[\"company_name\"].str.replace('[^a-zA-Z0-9]', '_', regex=True).str.strip()"
   ]
  },
  {
   "cell_type": "code",
   "execution_count": null,
   "id": "146a5ed4-1c21-4979-a32b-683ae5637889",
   "metadata": {
    "tags": []
   },
   "outputs": [],
   "source": [
    "df_exp[\"isco_code4\"] = df_exp[\"isco_code4\"].fillna(-1)\n",
    "df_exp[\"isco_code4\"] = df_exp[\"isco_code4\"].astype(int)\n",
    "\n",
    "df_exp[\"function_id\"] = df_exp[\"function_id\"].fillna(-1)\n",
    "df_exp[\"function_id\"] = df_exp[\"function_id\"].astype(int)\n",
    "\n",
    "df_exp[\"isco_functie_niveau\"] = df_exp[\"isco_functie_niveau\"].fillna(-1)\n",
    "df_exp[\"isco_functie_niveau\"] = df_exp[\"isco_functie_niveau\"].astype(int)\n",
    "\n",
    "\n",
    "\n",
    "for row in tqdm(df_exp.itertuples(), total=1863083):\n",
    "    # Skip candidates with no data\n",
    "    if not row[1] in candidates_with_data:\n",
    "        continue\n",
    "        \n",
    "    # Assign types to candidate and company\n",
    "    kg.add(eval(f\"kg.get_ns('rne').c{row[1]}\"), kg.get_ns(\"rdf\").type, kg.get_ns(\"rnd\").Candidate)\n",
    "    \n",
    "    # Store function level of isco code\n",
    "    if row[6] != -1 and row[7] != -1:\n",
    "        kg.add(eval(f\"kg.get_ns('rne').isco{row[7]}\"), kg.get_ns('rnp').code_is_level, eval(f\"kg.get_ns('rne').level{row[6]}\"))\n",
    "    \n",
    "    if not pd.isna(row[9]):\n",
    "        # Process company names to fit naming scheme\n",
    "        comp_name = row[9].lstrip(\"_\")\n",
    "        \n",
    "        if comp_name == \"\":\n",
    "            comp_name = \"blank_company\"        \n",
    "        elif comp_name[0].isdigit():\n",
    "            comp_name = \"_\" + comp_name\n",
    "            \n",
    "        if comp_name == \"import\":\n",
    "            comp_name = \"_import\"\n",
    "\n",
    "        kg.add(eval(f\"kg.get_ns('rne').c{row[1]}\"), kg.get_ns('rnp').worked_at_company, eval(f\"kg.get_ns('rne').comp_{comp_name}\"))\n",
    "        kg.add(eval(f\"kg.get_ns('rne').comp_{comp_name}\"), kg.get_ns('rdf').type, kg.get_ns(\"rnd\").Company)\n",
    "    \n",
    "    if not pd.isna(row[8]):\n",
    "        \n",
    "        func_name = row[8].lstrip(\"_\")\n",
    "        \n",
    "        if func_name == \"\":\n",
    "            func_name = \"blank_function\"   \n",
    "        elif func_name[0].isdigit():\n",
    "            func_name = \"_\" + func_name\n",
    "            \n",
    "        kg.add(eval(f\"kg.get_ns('rne').func_{func_name}\"), kg.get_ns('rdf').type, kg.get_ns('rnd').Function)\n",
    "            \n",
    "        # Candidate worked a certain function\n",
    "        kg.add(eval(f\"kg.get_ns('rne').c{row[1]}\"), kg.get_ns('rnp').has_worked_function, eval(f\"kg.get_ns('rne').func_{func_name}\"))\n",
    "\n",
    "        # Add id to function name\n",
    "        if row[5] != -1:\n",
    "            kg.add(eval(f\"kg.get_ns('rne').func_{func_name}\"), kg.get_ns('rnp').has_function_id, eval(f\"kg.get_ns('rne').fid{row[5]}\"))        \n",
    "\n",
    "        # Add isco level to function name\n",
    "        if row[6] != -1:\n",
    "            kg.add(eval(f\"kg.get_ns('rne').func_{func_name}\"), kg.get_ns('rnp').has_isco_level, eval(f\"kg.get_ns('rne').level{row[6]}\"))\n",
    "\n",
    "        # Add isco code to function name\n",
    "        if row[7] != -1:\n",
    "            kg.add(eval(f\"kg.get_ns('rne').isco{row[7]}\"), kg.get_ns(\"rdf\").type, kg.get_ns(\"rnd\").ISCO_unit)\n",
    "            kg.add(eval(f\"kg.get_ns('rne').func_{func_name}\"), kg.get_ns('rnp').has_isco_code, eval(f\"kg.get_ns('rne').isco{row[7]}\"))\n",
    "\n",
    "del df_exp"
   ]
  },
  {
   "cell_type": "markdown",
   "id": "a6ebee1c-83eb-4e77-bc44-866a01e1fb46",
   "metadata": {},
   "source": [
    "## Education"
   ]
  },
  {
   "cell_type": "code",
   "execution_count": null,
   "id": "6132e8b3-3088-4860-8d06-dafe6e2c4f5e",
   "metadata": {
    "tags": []
   },
   "outputs": [],
   "source": [
    "df_education = pd.read_csv(\"./cleaner_data/education.csv\").set_index(\"Unnamed: 0\")"
   ]
  },
  {
   "cell_type": "code",
   "execution_count": null,
   "id": "aa970df8-b95b-4d7f-8c45-5a700574a4b3",
   "metadata": {
    "tags": []
   },
   "outputs": [],
   "source": [
    "df_education[\"education_level\"] = df_education[\"education_level\"].map({1: \"Primary_education\",\n",
    "                                                                       2: \"Secondary_education\", \n",
    "                                                                       3: \"Vocational_school\",\n",
    "                                                                       4: \"Vocational_university\",\n",
    "                                                                       5: \"University\"}\n",
    "                                                                     )"
   ]
  },
  {
   "cell_type": "code",
   "execution_count": null,
   "id": "2c612e90-a178-433c-9d60-fc16740631d7",
   "metadata": {
    "tags": []
   },
   "outputs": [],
   "source": [
    "for row in tqdm(df_education.itertuples(), total=799014):\n",
    "    \n",
    "    if row[1] not in candidates_with_data:\n",
    "        continue\n",
    "        \n",
    "    node = eval(f\"kg.get_ns('rne').c{row[1]}\")\n",
    "\n",
    "    kg.add(node, kg.get_ns(\"rdf\").type, kg.get_ns(\"rnd\").Candidate)\n",
    "    \n",
    "    if (row[-1] == 1) or pd.isna(row[4]):  \n",
    "        kg.add(node, kg.get_ns(\"dbo\").education, eval(f\"kg.get_ns('dbr').{row[2]}\"))"
   ]
  },
  {
   "cell_type": "markdown",
   "id": "69b7a9ca-3e31-4950-b32f-0215b10d32d8",
   "metadata": {},
   "source": [
    "## Requests"
   ]
  },
  {
   "cell_type": "code",
   "execution_count": null,
   "id": "d6bd0c0c-1332-4930-bd2d-eb3a1ff7e029",
   "metadata": {
    "tags": []
   },
   "outputs": [],
   "source": [
    "df_req = pd.read_csv(\"./cleaner_data/requests.csv\").set_index(\"Unnamed: 0\")\n",
    "\n",
    "df_req[\"request_function_name\"] = df_req[\"request_function_name\"].str.lower().str.strip()\n",
    "df_req[\"request_function_name\"] = df_req[\"request_function_name\"].str.replace('[^a-zA-Z0-9]', '_', regex=True).str.strip()\n",
    "\n",
    "df_req[\"request_company_name\"] = df_req[\"request_company_name\"].str.lower().str.strip()\n",
    "df_req[\"request_company_name\"] = df_req[\"request_company_name\"].str.replace('[^a-zA-Z0-9]', '_', regex=True).str.strip()\n",
    "\n",
    "df_req[\"request_isco_code4\"] = df_req[\"request_isco_code4\"].fillna(-1)\n",
    "df_req[\"request_isco_code4\"] = df_req[\"request_isco_code4\"].astype(int)"
   ]
  },
  {
   "cell_type": "code",
   "execution_count": null,
   "id": "26b75994-4fc2-47ac-b24d-a4b61e11e7f7",
   "metadata": {
    "tags": []
   },
   "outputs": [],
   "source": [
    "df_req.info()"
   ]
  },
  {
   "cell_type": "code",
   "execution_count": null,
   "id": "03428a62-a241-408b-9a1f-2fde8436a65b",
   "metadata": {
    "tags": []
   },
   "outputs": [],
   "source": [
    "requests_with_data = set(df_cv_vac_pairs[\"request_mondriaan_number\"].unique())\n",
    "\n",
    "edu_map = {\"geen\": \"Primary_education\",\n",
    "           \"basisschool\": \"Primary_education\",\n",
    "           \"vmbo\": \"Secondary_education\", \n",
    "           \"mavo\": \"Secondary_education\", \n",
    "           \"havo\":\"Secondary_education\", \n",
    "           \"vwo\":\"Secondary_education\", \n",
    "           \"atheneum\":\"Secondary_education\", \n",
    "           \"gymnasium\":\"Secondary_education\", \n",
    "           \"mbo\": \"Vocational_school\",\n",
    "           \"hbo\": \"Vocational_university\",\n",
    "           \"wo\": \"University\"}\n",
    "\n",
    "\n",
    "for row in tqdm(df_req.itertuples(), total=588396):\n",
    "    \n",
    "    if not row[3] in requests_with_data:\n",
    "        continue\n",
    "        \n",
    "    node = eval(f\"kg.get_ns('rne').r{row[3]}\")\n",
    "\n",
    "    kg.add(node, kg.get_ns(\"rdf\").type, kg.get_ns(\"rnd\").Position)\n",
    "    \n",
    "    # Store the workgroup that the request was a part of (RGN, tempo team, yacht), and general info on the job\n",
    "    kg.add(node, kg.get_ns(\"rnp\").part_of_workgroup, eval(f\"kg.get_ns('rne').{row[1]}\"))\n",
    "    \n",
    "    if not pd.isna(row[15]):\n",
    "        kg.add(node, kg.get_ns(\"rnp\").number_working_hours, rdflib.Literal(int(row[15]), datatype=kg.get_ns(\"xsd\").integer))\n",
    "    if not pd.isna(row[16]):\n",
    "        kg.add(node, kg.get_ns(\"rnp\").number_working_days, rdflib.Literal(int(row[16]), datatype=kg.get_ns(\"xsd\").integer))\n",
    "    if not pd.isna(row[17]):\n",
    "        kg.add(node, kg.get_ns(\"rnp\").has_salary, rdflib.Literal(float(row[17]), datatype=kg.get_ns(\"xsd\").double))\n",
    "    if not pd.isna(row[24]):\n",
    "        kg.add(node, kg.get_ns(\"rnp\").requires_license, rdflib.Literal(int(row[24]), datatype=kg.get_ns(\"xsd\").integer))\n",
    "    if not pd.isna(row[34]):\n",
    "        kg.add(node, kg.get_ns(\"rnp\").requires_work_think_level, rdflib.Literal(int(row[34]), datatype=kg.get_ns(\"xsd\").integer))\n",
    "               \n",
    "    if not np.isnan(row[28]):\n",
    "        # Store function id (as a node rather than a property, as there are relations between IDs) TODO: check\n",
    "        kg.add(node, kg.get_ns(\"rnp\").has_function_id, eval(f\"kg.get_ns('rne').fid{row[28]}\"))\n",
    "            \n",
    "    if (type(row[29]) == str and len(row[29])) or (not np.isnan(row[29])):\n",
    "        if row[29][0].isdigit():\n",
    "            func_name = \"_\" + row[29]\n",
    "        else:\n",
    "            func_name = row[29]\n",
    "        \n",
    "        # Store function name\n",
    "        kg.add(node, kg.get_ns(\"rnp\").has_function_name, eval(f\"kg.get_ns('rne').func_{func_name}\"))\n",
    "    \n",
    "    if (type(row[33]) == str and len(row[33])) or (not np.isnan(row[33])):\n",
    "        # Company names can start with a digit, which is not allowed by naming conventions\n",
    "        comp_name = row[33].lstrip(\"_\")\n",
    "\n",
    "        if comp_name[0].isdigit():\n",
    "            comp_name = \"_\" + comp_name\n",
    "        \n",
    "        # Store company name\n",
    "        kg.add(node, kg.get_ns(\"rnp\").has_company_name, eval(f\"kg.get_ns('rne').comp_{comp_name}\"))\n",
    "        \n",
    "    if not np.isnan(row[40]) and not row[40] == -1:\n",
    "        # Store isco\n",
    "        kg.add(node, kg.get_ns(\"rnp\").has_isco, eval(f\"kg.get_ns('rne').isco{row[40]}\"))\n",
    "    \n",
    "    if (type(row[41]) == str and len(row[41])) or (not np.isnan(row[41])):\n",
    "        \n",
    "        educations = row[41].split(\",\") if \",\" in row[41] else row[41].split(\"/\")\n",
    "        \n",
    "        # Store education                \n",
    "        for edu in educations:\n",
    "            edu = edu_map[edu.strip().lower()] if edu.strip().lower() in edu_map else \"no_education\"\n",
    "            kg.add(node, kg.get_ns(\"rnp\").requires_education, eval(f\"kg.get_ns('dbr').{edu}\"))\n",
    "            "
   ]
  },
  {
   "cell_type": "markdown",
   "id": "c97162ab-aa10-4808-a368-ab4a224e5a18",
   "metadata": {},
   "source": [
    "## Additional candidate data"
   ]
  },
  {
   "cell_type": "code",
   "execution_count": null,
   "id": "4539894c-1bb4-4c5a-950e-c78ebff8aeaf",
   "metadata": {
    "tags": []
   },
   "outputs": [],
   "source": [
    "df_skills = pd.read_csv(\"./cleaner_data/skills.csv\").set_index(\"Unnamed: 0\")\n",
    "\n",
    "df_skills[\"skill_id\"] = df_skills[\"skill_id\"].str.lower().str.strip()\n",
    "df_skills[\"skill_id\"] = df_skills[\"skill_id\"].str.replace('[^a-zA-Z0-9]', '_', regex=True).str.strip()"
   ]
  },
  {
   "cell_type": "code",
   "execution_count": null,
   "id": "6c8561b8-668d-405e-8088-2ede584a499a",
   "metadata": {
    "tags": []
   },
   "outputs": [],
   "source": [
    "for row in tqdm(df_skills.itertuples(), total=816735):\n",
    "    if not row[1] in candidates_with_data:\n",
    "        continue\n",
    "        \n",
    "    node = eval(f\"kg.get_ns('rne').c{row[1]}\")\n",
    "    \n",
    "    kg.add(node, kg.get_ns(\"rnp\").has_skill, eval(f\"kg.get_ns('rne').skill_{row[2]}\"))\n",
    "    kg.add(eval(f\"kg.get_ns('rne').skill_{row[2]}\"), kg.get_ns(\"rdf\").type, kg.get_ns(\"rnd\").Skill)"
   ]
  },
  {
   "cell_type": "code",
   "execution_count": null,
   "id": "468e92a7-f3c4-4cd5-93f9-1b3d0f2a3b6d",
   "metadata": {
    "tags": []
   },
   "outputs": [],
   "source": [
    "df_languages = pd.read_csv(\"./cleaner_data/languages.csv\").set_index(\"Unnamed: 0\")"
   ]
  },
  {
   "cell_type": "code",
   "execution_count": null,
   "id": "449e3dbc-3c38-4fa0-b64e-69e9d3092a63",
   "metadata": {
    "tags": []
   },
   "outputs": [],
   "source": [
    "for row in tqdm(df_languages.itertuples(), total=663315):\n",
    "    if not row[1] in candidates_with_data:\n",
    "        continue\n",
    "        \n",
    "    node = eval(f\"kg.get_ns('rne').c{row[1]}\")\n",
    "    \n",
    "    if not \"/\" in row[2]:\n",
    "        kg.add(node, kg.get_ns(\"rnp\").speaks_language, eval(f\"kg.get_ns('rne').lang_{row[2]}\"))\n",
    "        kg.add(eval(f\"kg.get_ns('rne').lang_{row[2]}\"), kg.get_ns(\"rdf\").type, kg.get_ns(\"rnd\").Language)\n",
    "    else:\n",
    "        langs = row[2].split(\"/\")\n",
    "        \n",
    "        for lang in langs:\n",
    "            kg.add(node, kg.get_ns(\"rnp\").speaks_language, eval(f\"kg.get_ns('rne').lang_{lang}\"))\n",
    "            kg.add(eval(f\"kg.get_ns('rne').lang_{lang}\"), kg.get_ns(\"rdf\").type, kg.get_ns(\"rnd\").Language)"
   ]
  },
  {
   "cell_type": "code",
   "execution_count": null,
   "id": "92b0043a-72d2-4555-b287-1f6ec2f41ef8",
   "metadata": {
    "tags": []
   },
   "outputs": [],
   "source": [
    "df_license = pd.read_csv(\"./cleaner_data/driving_licenses.csv\").set_index(\"Unnamed: 0\")"
   ]
  },
  {
   "cell_type": "code",
   "execution_count": null,
   "id": "11f3e8d2-1feb-479d-8e52-cb1abba5ef73",
   "metadata": {
    "tags": []
   },
   "outputs": [],
   "source": [
    "for row in tqdm(df_license.itertuples(), total=536359):\n",
    "    if not row[1] in candidates_with_data:\n",
    "        continue\n",
    "        \n",
    "    node = eval(f\"kg.get_ns('rne').c{row[1]}\")\n",
    "    \n",
    "    kg.add(node, kg.get_ns(\"rnp\").has_license, eval(f\"kg.get_ns('rne').rijbewijs_{row[2]}\"))\n",
    "    kg.add(eval(f\"kg.get_ns('rne').rijbewijs_{row[2]}\"), kg.get_ns(\"rdf\").type, kg.get_ns(\"rnd\").License)"
   ]
  },
  {
   "cell_type": "markdown",
   "id": "19db93d3-73d8-4512-a433-f2baacdffe96",
   "metadata": {},
   "source": [
    "## Add textual data to candidates and CVs"
   ]
  },
  {
   "cell_type": "code",
   "execution_count": null,
   "id": "e11c36af-1350-4bee-b8f7-550e840147dc",
   "metadata": {
    "tags": []
   },
   "outputs": [],
   "source": [
    "for row in tqdm(df_cv_vac_pairs.itertuples(), total=274407):\n",
    "    # TODO: CVs should be added later to preserve memory\n",
    "    #     cv = re.sub(\"\\n+\", \" \\n \", row[8]).lower()\n",
    "#     vacancy = re.sub(\"\\n+\", \" \\n \", row[7]).lower()  \n",
    "    \n",
    "#     kg.add(eval(f\"kg.get_ns('rne').c{row[4]}\"), kg.get_ns(\"rnp\").cv, rdflib.Literal(cv))\n",
    "#     kg.add(eval(f\"kg.get_ns('rne').r{row[5]}\"), kg.get_ns(\"rnp\").vacancy, rdflib.Literal(vacancy))\n",
    "    \n",
    "    match = f\"match_{row[6]}\".replace(\"-\", \"neg\")\n",
    "        \n",
    "    kg.add(eval(f\"kg.get_ns('rne').c{row[4]}\"), eval(f\"kg.get_ns('rnp').{match}\"), eval(f\"kg.get_ns('rne').r{row[5]}\"))"
   ]
  },
  {
   "cell_type": "code",
   "execution_count": null,
   "id": "dee254b9-fccc-4573-81fa-6ddf90102f99",
   "metadata": {
    "tags": []
   },
   "outputs": [],
   "source": [
    "measure.measure_graph(kg)\n",
    "print(\"edges before inference\", measure.get_edge_count())\n",
    "print(\"nodes before inference\", measure.get_node_count())\n",
    "\n",
    "# Do all the nifty inference\n",
    "kg.infer_owlrl_closure()\n",
    "\n",
    "measure.measure_graph(kg)\n",
    "\n",
    "print()\n",
    "print(\"edges after inference\", measure.get_edge_count())\n",
    "print(\"nodes after inference\", measure.get_node_count())"
   ]
  },
  {
   "cell_type": "code",
   "execution_count": null,
   "id": "31795a62-7ba7-4854-8be3-197c4b8b3151",
   "metadata": {
    "tags": []
   },
   "outputs": [],
   "source": [
    "kgt = kglab.SubgraphTensor(kg)\n",
    "\n",
    "del kg\n",
    "\n",
    "with open(\"kg.edgelist\", \"w+\") as f:\n",
    "    \n",
    "    for i, (s, p, o) in tqdm(enumerate(kgt.as_tuples())):\n",
    "            s_label = kgt.n3fy(s)\n",
    "            # s_id = kgt.transform(s_label)\n",
    "\n",
    "            p_label = kgt.n3fy(p)\n",
    "            # p_id = kgt.transform(p_label)\n",
    "\n",
    "            o_label = kgt.n3fy(o)\n",
    "            # o_id = kgt.transform(o_label)\n",
    "\n",
    "            # print([s_id, o_id, 2 * p_id])\n",
    "            # print([o_id, s_id, 2 * p_id + 1])\n",
    "\n",
    "            f.write(f\"['{s_label}', '{p_label}', '{o_label}']\\n\")"
   ]
  },
  {
   "cell_type": "code",
   "execution_count": null,
   "id": "f25341d4-32c8-4628-87c8-e7a98990413b",
   "metadata": {
    "tags": []
   },
   "outputs": [],
   "source": [
    "kgt = kglab.SubgraphTensor(kg)\n",
    "\n",
    "del kg\n",
    "\n",
    "edge_list = kgt.as_tensor(quiet=False)"
   ]
  },
  {
   "cell_type": "code",
   "execution_count": null,
   "id": "5ba4bbd9-efda-4108-94cb-2b9b4bcb6a50",
   "metadata": {
    "tags": []
   },
   "outputs": [],
   "source": [
    "torch.save(edge_list, 'tensor.pt')"
   ]
  },
  {
   "cell_type": "code",
   "execution_count": null,
   "id": "b192935d-efac-49b8-84ef-df23789e9749",
   "metadata": {},
   "outputs": [],
   "source": []
  },
  {
   "cell_type": "code",
   "execution_count": null,
   "id": "1fe1dcd1-ba09-4fa2-8ce0-5cc388e52246",
   "metadata": {
    "tags": []
   },
   "outputs": [],
   "source": [
    "# G = kg.build_nx_graph(nx.DiGraph())"
   ]
  },
  {
   "cell_type": "code",
   "execution_count": null,
   "id": "140511c1-a8ad-4730-afca-9c6fdae838a9",
   "metadata": {
    "tags": []
   },
   "outputs": [],
   "source": [
    "# kg.save_parquet(\"kg.parquet\")"
   ]
  },
  {
   "cell_type": "code",
   "execution_count": null,
   "id": "a333487d-3720-4f54-8e19-2153c14838ef",
   "metadata": {},
   "outputs": [],
   "source": []
  }
 ],
 "metadata": {
  "kernelspec": {
   "display_name": "Python 3 (ipykernel)",
   "language": "python",
   "name": "python3"
  },
  "language_info": {
   "codemirror_mode": {
    "name": "ipython",
    "version": 3
   },
   "file_extension": ".py",
   "mimetype": "text/x-python",
   "name": "python",
   "nbconvert_exporter": "python",
   "pygments_lexer": "ipython3",
   "version": "3.12.4"
  }
 },
 "nbformat": 4,
 "nbformat_minor": 5
}
