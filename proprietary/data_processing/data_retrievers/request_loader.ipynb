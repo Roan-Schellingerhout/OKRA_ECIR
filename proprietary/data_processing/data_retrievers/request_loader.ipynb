{
 "cells": [
  {
   "cell_type": "code",
   "execution_count": 1,
   "id": "18183373-3df1-4e0c-ac27-96bc0b2e5aa2",
   "metadata": {
    "tags": []
   },
   "outputs": [
    {
     "name": "stdout",
     "output_type": "stream",
     "text": [
      "Requirement already satisfied: trino in /home/ec2-user/anaconda3/envs/pytorch_p310/lib/python3.10/site-packages (0.327.0)\n",
      "Requirement already satisfied: python-dateutil in /home/ec2-user/anaconda3/envs/pytorch_p310/lib/python3.10/site-packages (from trino) (2.8.2)\n",
      "Requirement already satisfied: pytz in /home/ec2-user/anaconda3/envs/pytorch_p310/lib/python3.10/site-packages (from trino) (2023.3.post1)\n",
      "Requirement already satisfied: requests>=2.31.0 in /home/ec2-user/anaconda3/envs/pytorch_p310/lib/python3.10/site-packages (from trino) (2.31.0)\n",
      "Requirement already satisfied: tzlocal in /home/ec2-user/anaconda3/envs/pytorch_p310/lib/python3.10/site-packages (from trino) (5.2)\n",
      "Requirement already satisfied: charset-normalizer<4,>=2 in /home/ec2-user/anaconda3/envs/pytorch_p310/lib/python3.10/site-packages (from requests>=2.31.0->trino) (3.3.1)\n",
      "Requirement already satisfied: idna<4,>=2.5 in /home/ec2-user/anaconda3/envs/pytorch_p310/lib/python3.10/site-packages (from requests>=2.31.0->trino) (3.4)\n",
      "Requirement already satisfied: urllib3<3,>=1.21.1 in /home/ec2-user/anaconda3/envs/pytorch_p310/lib/python3.10/site-packages (from requests>=2.31.0->trino) (1.26.18)\n",
      "Requirement already satisfied: certifi>=2017.4.17 in /home/ec2-user/anaconda3/envs/pytorch_p310/lib/python3.10/site-packages (from requests>=2.31.0->trino) (2023.7.22)\n",
      "Requirement already satisfied: six>=1.5 in /home/ec2-user/anaconda3/envs/pytorch_p310/lib/python3.10/site-packages (from python-dateutil->trino) (1.16.0)\n",
      "Note: you may need to restart the kernel to use updated packages.\n"
     ]
    }
   ],
   "source": [
    "pip install trino"
   ]
  },
  {
   "cell_type": "code",
   "execution_count": 2,
   "id": "c635c543-4159-4cae-822c-00cd0d997fba",
   "metadata": {
    "tags": []
   },
   "outputs": [],
   "source": [
    "from sys import path\n",
    "path.append(\"/home/ec2-user/SageMaker/data-science-development/utils\")\n",
    "path.append(\"/home/ec2-user/SageMaker/data-science-development/config\")\n",
    "\n",
    "import pandas as pd\n",
    "import numpy as np\n",
    "import datetime as dt\n",
    "import matplotlib.pyplot as plt\n",
    "import pyarrow.parquet as pq\n",
    "import seaborn as sns\n",
    "import matplotlib.ticker as mtick\n",
    "\n",
    "import itertools\n",
    "import s3fs\n",
    "import os\n",
    "import torch\n",
    "import random\n",
    "import json\n",
    "# import boto\n",
    "import scipy\n",
    "# import sktime\n",
    "import trino\n",
    "\n",
    "from torch import nn\n",
    "from torch.autograd import Variable\n",
    "from torch.utils.data import TensorDataset, DataLoader, WeightedRandomSampler\n",
    "\n",
    "from sklearn.model_selection import train_test_split\n",
    "from sklearn.utils import class_weight\n",
    "\n",
    "from trino.dbapi import connect\n",
    "from trino.auth import OAuth2Authentication, BasicAuthentication\n",
    "\n",
    "from datetime import datetime\n",
    "# from config import Config  \n",
    "from collections import defaultdict, Counter\n",
    "from tqdm import tqdm \n",
    "from itertools import zip_longest\n",
    "from contextlib import closing\n",
    "\n",
    "tqdm.pandas()"
   ]
  },
  {
   "cell_type": "code",
   "execution_count": 3,
   "id": "14a921ea-348c-48c5-9549-bcc4b376aac1",
   "metadata": {
    "tags": []
   },
   "outputs": [],
   "source": [
    "conn = connect(\n",
    "           host=f'trino.prd.rgn',\n",
    "           port=443,\n",
    "           user=\"roan.schellingerhout@randstadgroep.nl\",\n",
    "           catalog='iceberg',\n",
    "           verify=\"certificate\",\n",
    "           http_scheme=\"https\",\n",
    "           auth=OAuth2Authentication()\n",
    "     )"
   ]
  },
  {
   "cell_type": "code",
   "execution_count": 4,
   "id": "a55d9e96-f8f9-4532-b918-946cb94fb798",
   "metadata": {
    "tags": []
   },
   "outputs": [],
   "source": [
    "cur = conn.cursor()"
   ]
  },
  {
   "cell_type": "code",
   "execution_count": 5,
   "id": "39969df6-0496-417a-8ac1-5e7872c21b48",
   "metadata": {
    "tags": []
   },
   "outputs": [
    {
     "name": "stdout",
     "output_type": "stream",
     "text": [
      "Open the following URL in browser for the external authentication:\n",
      "https://trino.prd.rgn/oauth2/token/initiate/0f32721a8ea3815cf83447bdd3a619daedb81bebc3ce37941995b6cffa0eb336\n"
     ]
    }
   ],
   "source": [
    "vacancy_data = cur.execute(open(\"./sql/requests.sql\").read()).fetchall()"
   ]
  },
  {
   "cell_type": "code",
   "execution_count": 6,
   "id": "742aad8f-8955-4bd6-a486-a84f858eee74",
   "metadata": {
    "tags": []
   },
   "outputs": [],
   "source": [
    "headers = [i[0] for i in cur.description]"
   ]
  },
  {
   "cell_type": "code",
   "execution_count": 7,
   "id": "01c919a4-8d09-4b9e-9ea8-2b1671da0141",
   "metadata": {
    "tags": []
   },
   "outputs": [],
   "source": [
    "df = pd.DataFrame(data=vacancy_data, columns=headers)"
   ]
  },
  {
   "cell_type": "code",
   "execution_count": 8,
   "id": "4ec9f394-ed96-4644-9e9b-9663f3247ab1",
   "metadata": {
    "tags": []
   },
   "outputs": [
    {
     "name": "stdout",
     "output_type": "stream",
     "text": [
      "<class 'pandas.core.frame.DataFrame'>\n",
      "RangeIndex: 588396 entries, 0 to 588395\n",
      "Data columns (total 46 columns):\n",
      " #   Column                               Non-Null Count   Dtype         \n",
      "---  ------                               --------------   -----         \n",
      " 0   request_workgroup                    588394 non-null  object        \n",
      " 1   request_sapp_id                      588396 non-null  int64         \n",
      " 2   request_mondriaan_number             588396 non-null  int64         \n",
      " 3   request_date_change                  588396 non-null  datetime64[ns]\n",
      " 4   request_date_status_change           588396 non-null  object        \n",
      " 5   request_reference_type               588396 non-null  object        \n",
      " 6   request_nr_employees                 588396 non-null  int64         \n",
      " 7   request_recruiter_type               541255 non-null  object        \n",
      " 8   request_date_start                   588396 non-null  object        \n",
      " 9   request_date_end                     182400 non-null  object        \n",
      " 10  request_to                           588396 non-null  object        \n",
      " 11  request_to_ext                       588363 non-null  object        \n",
      " 12  request_unit_name                    571320 non-null  object        \n",
      " 13  request_unit_number                  588395 non-null  float64       \n",
      " 14  request_week_hours                   580638 non-null  object        \n",
      " 15  request_week_days                    579363 non-null  float64       \n",
      " 16  request_salary                       554130 non-null  object        \n",
      " 17  request_salary_unit                  586037 non-null  object        \n",
      " 18  request_shift_team                   588396 non-null  int64         \n",
      " 19  request_shift_night                  588396 non-null  int64         \n",
      " 20  request_shift_weekend                588396 non-null  int64         \n",
      " 21  request_partime_possible             588396 non-null  int64         \n",
      " 22  request_own_transport_required       588396 non-null  int64         \n",
      " 23  request_driver_license_required      588396 non-null  int64         \n",
      " 24  request_maximum_travel_distance      570179 non-null  float64       \n",
      " 25  request_contract_type                575034 non-null  object        \n",
      " 26  request_contract_type_description    575034 non-null  object        \n",
      " 27  request_function_id                  588396 non-null  int64         \n",
      " 28  request_function_name                588396 non-null  object        \n",
      " 29  request_function_name_company        454534 non-null  object        \n",
      " 30  request_sales_group                  587448 non-null  float64       \n",
      " 31  request_company_number               588396 non-null  int64         \n",
      " 32  request_company_name                 588396 non-null  object        \n",
      " 33  request_work_think_level             588396 non-null  int64         \n",
      " 34  request_regio_id                     588395 non-null  float64       \n",
      " 35  request_district_id                  588395 non-null  float64       \n",
      " 36  request_company_permanent_employees  553673 non-null  object        \n",
      " 37  request_sbi_4                        588396 non-null  object        \n",
      " 38  request_sbi_abbreviation             588396 non-null  object        \n",
      " 39  request_isco_code4                   583325 non-null  float64       \n",
      " 40  request_education_level              586601 non-null  object        \n",
      " 41  request_status_code                  588396 non-null  object        \n",
      " 42  request_current_phase                244214 non-null  object        \n",
      " 43  request_education_description        457503 non-null  object        \n",
      " 44  request_company_activity_area        588396 non-null  object        \n",
      " 45  request_position_description         462054 non-null  object        \n",
      "dtypes: datetime64[ns](1), float64(7), int64(12), object(26)\n",
      "memory usage: 206.5+ MB\n"
     ]
    }
   ],
   "source": [
    "df.info()"
   ]
  },
  {
   "cell_type": "code",
   "execution_count": 9,
   "id": "064bfd26-9928-496f-8f72-1a579817a7db",
   "metadata": {
    "tags": []
   },
   "outputs": [
    {
     "name": "stdout",
     "output_type": "stream",
     "text": [
      "66707\n"
     ]
    },
    {
     "data": {
      "image/png": "[encoded data removed]",
      "text/plain": [
       "<Figure size 640x480 with 1 Axes>"
      ]
     },
     "metadata": {},
     "output_type": "display_data"
    }
   ],
   "source": [
    "plt.plot(df[\"request_position_description\"].str.len().sort_values(ascending=False).values)\n",
    "print((df[\"request_position_description\"].str.len() > 10).sum())"
   ]
  },
  {
   "cell_type": "code",
   "execution_count": 10,
   "id": "5192f63d-d706-46cd-8a2e-7a9e27a95e90",
   "metadata": {
    "tags": []
   },
   "outputs": [],
   "source": [
    "df.to_csv(\"./cleaner_data/requests.csv\")"
   ]
  },
  {
   "cell_type": "code",
   "execution_count": null,
   "id": "83214885-d695-4e00-87e8-8318561a5978",
   "metadata": {},
   "outputs": [],
   "source": []
  }
 ],
 "metadata": {
  "kernelspec": {
   "display_name": "conda_pytorch_p310",
   "language": "python",
   "name": "conda_pytorch_p310"
  },
  "language_info": {
   "codemirror_mode": {
    "name": "ipython",
    "version": 3
   },
   "file_extension": ".py",
   "mimetype": "text/x-python",
   "name": "python",
   "nbconvert_exporter": "python",
   "pygments_lexer": "ipython3",
   "version": "3.10.13"
  }
 },
 "nbformat": 4,
 "nbformat_minor": 5
}
