{
 "cells": [
  {
   "cell_type": "code",
   "execution_count": 1,
   "id": "18183373-3df1-4e0c-ac27-96bc0b2e5aa2",
   "metadata": {
    "tags": []
   },
   "outputs": [
    {
     "name": "stdout",
     "output_type": "stream",
     "text": [
      "Collecting trino\n",
      "  Downloading trino-0.328.0-py3-none-any.whl.metadata (17 kB)\n",
      "Requirement already satisfied: python-dateutil in /home/ec2-user/anaconda3/envs/pytorch_p310/lib/python3.10/site-packages (from trino) (2.8.2)\n",
      "Requirement already satisfied: pytz in /home/ec2-user/anaconda3/envs/pytorch_p310/lib/python3.10/site-packages (from trino) (2023.3.post1)\n",
      "Requirement already satisfied: requests>=2.31.0 in /home/ec2-user/anaconda3/envs/pytorch_p310/lib/python3.10/site-packages (from trino) (2.31.0)\n",
      "Collecting tzlocal (from trino)\n",
      "  Downloading tzlocal-5.2-py3-none-any.whl.metadata (7.8 kB)\n",
      "Requirement already satisfied: charset-normalizer<4,>=2 in /home/ec2-user/anaconda3/envs/pytorch_p310/lib/python3.10/site-packages (from requests>=2.31.0->trino) (3.3.1)\n",
      "Requirement already satisfied: idna<4,>=2.5 in /home/ec2-user/anaconda3/envs/pytorch_p310/lib/python3.10/site-packages (from requests>=2.31.0->trino) (3.4)\n",
      "Requirement already satisfied: urllib3<3,>=1.21.1 in /home/ec2-user/anaconda3/envs/pytorch_p310/lib/python3.10/site-packages (from requests>=2.31.0->trino) (1.26.18)\n",
      "Requirement already satisfied: certifi>=2017.4.17 in /home/ec2-user/anaconda3/envs/pytorch_p310/lib/python3.10/site-packages (from requests>=2.31.0->trino) (2023.7.22)\n",
      "Requirement already satisfied: six>=1.5 in /home/ec2-user/anaconda3/envs/pytorch_p310/lib/python3.10/site-packages (from python-dateutil->trino) (1.16.0)\n",
      "Downloading trino-0.328.0-py3-none-any.whl (52 kB)\n",
      "\u001b[2K   \u001b[90m━━━━━━━━━━━━━━━━━━━━━━━━━━━━━━━━━━━━━━━━\u001b[0m \u001b[32m52.1/52.1 kB\u001b[0m \u001b[31m2.8 MB/s\u001b[0m eta \u001b[36m0:00:00\u001b[0m\n",
      "\u001b[?25hDownloading tzlocal-5.2-py3-none-any.whl (17 kB)\n",
      "Installing collected packages: tzlocal, trino\n",
      "Successfully installed trino-0.328.0 tzlocal-5.2\n",
      "Note: you may need to restart the kernel to use updated packages.\n"
     ]
    }
   ],
   "source": [
    "pip install trino"
   ]
  },
  {
   "cell_type": "code",
   "execution_count": 2,
   "id": "c635c543-4159-4cae-822c-00cd0d997fba",
   "metadata": {
    "tags": []
   },
   "outputs": [],
   "source": [
    "from sys import path\n",
    "path.append(\"/home/ec2-user/SageMaker/data-science-development/utils\")\n",
    "path.append(\"/home/ec2-user/SageMaker/data-science-development/config\")\n",
    "\n",
    "import pandas as pd\n",
    "import numpy as np\n",
    "import datetime as dt\n",
    "import matplotlib.pyplot as plt\n",
    "import pyarrow.parquet as pq\n",
    "import seaborn as sns\n",
    "import matplotlib.ticker as mtick\n",
    "\n",
    "import itertools\n",
    "import s3fs\n",
    "import os\n",
    "import torch\n",
    "import random\n",
    "import json\n",
    "# import boto\n",
    "import scipy\n",
    "# import sktime\n",
    "import trino\n",
    "\n",
    "from torch import nn\n",
    "from torch.autograd import Variable\n",
    "from torch.utils.data import TensorDataset, DataLoader, WeightedRandomSampler\n",
    "\n",
    "from sklearn.model_selection import train_test_split\n",
    "from sklearn.utils import class_weight\n",
    "\n",
    "from trino.dbapi import connect\n",
    "from trino.auth import OAuth2Authentication, BasicAuthentication\n",
    "\n",
    "from datetime import datetime\n",
    "# from config import Config  \n",
    "from collections import defaultdict, Counter\n",
    "from tqdm import tqdm \n",
    "from itertools import zip_longest\n",
    "from contextlib import closing\n",
    "\n",
    "tqdm.pandas()"
   ]
  },
  {
   "cell_type": "code",
   "execution_count": 3,
   "id": "14a921ea-348c-48c5-9549-bcc4b376aac1",
   "metadata": {
    "tags": []
   },
   "outputs": [],
   "source": [
    "conn = connect(\n",
    "           host=f'trino.prd.rgn',\n",
    "           port=443,\n",
    "           user=\"roan.schellingerhout@randstadgroep.nl\",\n",
    "           catalog='iceberg',\n",
    "           verify=\"certificate\",\n",
    "           http_scheme=\"https\",\n",
    "           auth=OAuth2Authentication()\n",
    "     )"
   ]
  },
  {
   "cell_type": "code",
   "execution_count": 4,
   "id": "a55d9e96-f8f9-4532-b918-946cb94fb798",
   "metadata": {
    "tags": []
   },
   "outputs": [],
   "source": [
    "cur = conn.cursor()"
   ]
  },
  {
   "cell_type": "code",
   "execution_count": 5,
   "id": "39969df6-0496-417a-8ac1-5e7872c21b48",
   "metadata": {
    "tags": []
   },
   "outputs": [
    {
     "name": "stdout",
     "output_type": "stream",
     "text": [
      "Open the following URL in browser for the external authentication:\n",
      "https://trino.prd.rgn/oauth2/token/initiate/8328ee88553d74bd998ee61a91f547ea603ec1b5baa40b10188600453855f6bc\n"
     ]
    }
   ],
   "source": [
    "experience_data = cur.execute(open(\"./sql/candidate_work_experience.sql\").read()).fetchall()\n",
    "headers = [i[0] for i in cur.description]\n",
    "\n",
    "df = pd.DataFrame(data=experience_data, columns=headers)\n",
    "df.to_csv(\"./cleaner_data/work_experience.csv\")"
   ]
  },
  {
   "cell_type": "code",
   "execution_count": 6,
   "id": "8f40282e",
   "metadata": {
    "tags": []
   },
   "outputs": [],
   "source": [
    "location_data = cur.execute(open(\"./sql/candidate_addresses.sql\").read()).fetchall()\n",
    "headers = [i[0] for i in cur.description]\n",
    "\n",
    "df_loc = pd.DataFrame(data=location_data, columns=headers)\n",
    "df_loc.to_csv(\"./cleaner_data/location.csv\")"
   ]
  },
  {
   "cell_type": "code",
   "execution_count": 7,
   "id": "a621f5e5",
   "metadata": {
    "tags": []
   },
   "outputs": [],
   "source": [
    "certificate_data = cur.execute(open(\"./sql/candidate_certificates.sql\").read()).fetchall()\n",
    "headers = [i[0] for i in cur.description]\n",
    "\n",
    "df_cert = pd.DataFrame(data=certificate_data, columns=headers)\n",
    "\n",
    "cert_map = cur.execute(open(\"./sql/query_certificates_map.sql\").read()).fetchall()\n",
    "headers = [i[0] for i in cur.description]\n",
    "\n",
    "cert_mapping = pd.DataFrame(data=cert_map, columns=headers)\n",
    "\n",
    "cert_dict = cert_mapping[[\"request_certificate_ids\", \"request_certificate_description\"]].set_index(\"request_certificate_ids\").to_dict()[\"request_certificate_description\"]\n",
    "df_cert[\"candidate_certificate_id\"] = df_cert[\"candidate_certificate_id\"].apply(lambda x: cert_dict[x] if x in cert_dict else x)\n",
    "df_cert.to_csv(\"./cleaner_data/certificates.csv\")"
   ]
  },
  {
   "cell_type": "code",
   "execution_count": 8,
   "id": "9d8cb041",
   "metadata": {
    "tags": []
   },
   "outputs": [],
   "source": [
    "driving_data = cur.execute(open(\"./sql/candidate_driving_license.sql\").read()).fetchall()\n",
    "headers = [i[0] for i in cur.description]\n",
    "\n",
    "df_drive = pd.DataFrame(data=driving_data, columns=headers)\n",
    "df_drive.to_csv(\"./cleaner_data/driving_licenses.csv\")"
   ]
  },
  {
   "cell_type": "code",
   "execution_count": 9,
   "id": "25dae580",
   "metadata": {
    "tags": []
   },
   "outputs": [],
   "source": [
    "education_data = cur.execute(open(\"./sql/candidate_education.sql\").read()).fetchall()\n",
    "headers = [i[0] for i in cur.description]\n",
    "\n",
    "df_edu = pd.DataFrame(data=education_data, columns=headers)\n",
    "df_edu.to_csv(\"./cleaner_data/education.csv\")"
   ]
  },
  {
   "cell_type": "code",
   "execution_count": 10,
   "id": "f1de583b",
   "metadata": {
    "tags": []
   },
   "outputs": [],
   "source": [
    "language_data = cur.execute(open(\"./sql/candidate_languages.sql\").read()).fetchall()\n",
    "headers = [i[0] for i in cur.description]\n",
    "\n",
    "df_lang = pd.DataFrame(data=language_data, columns=headers)\n",
    "\n",
    "lang_map = cur.execute(open(\"./sql/language_mapping.sql\").read()).fetchall()\n",
    "headers = [i[0] for i in cur.description]\n",
    "\n",
    "lang_mapping = pd.DataFrame(data=lang_map, columns=headers)\n",
    "\n",
    "lang_dict = lang_mapping[[\"language_id\", \"language\"]].set_index(\"language_id\").to_dict()[\"language\"]\n",
    "df_lang[\"language_id\"] = df_lang[\"language_id\"].apply(lambda x: lang_dict[x])\n",
    "df_lang.to_csv(\"./cleaner_data/languages.csv\")"
   ]
  },
  {
   "cell_type": "code",
   "execution_count": 11,
   "id": "e634e543",
   "metadata": {
    "tags": []
   },
   "outputs": [],
   "source": [
    "skill_data = cur.execute(open(\"./sql/candidate_skills.sql\").read()).fetchall()\n",
    "headers = [i[0] for i in cur.description]\n",
    "\n",
    "df_skill = pd.DataFrame(data=skill_data, columns=headers)\n",
    "\n",
    "skill_map = cur.execute(open(\"./sql/skills_mapping.sql\").read()).fetchall()\n",
    "headers = [i[0] for i in cur.description]\n",
    "\n",
    "skill_mapping = pd.DataFrame(data=skill_map, columns=headers)\n",
    "\n",
    "skill_dict = skill_mapping[[\"skill_id\", \"skill_name\"]].set_index(\"skill_id\").to_dict()[\"skill_name\"]\n",
    "df_skill[\"skill_id\"] = df_skill[\"skill_id\"].apply(lambda x: skill_dict[x])\n",
    "df_skill.to_csv(\"./cleaner_data/skills.csv\")"
   ]
  },
  {
   "cell_type": "code",
   "execution_count": null,
   "id": "7792db9a-5aec-4e73-a6c4-9248bab24386",
   "metadata": {},
   "outputs": [],
   "source": []
  }
 ],
 "metadata": {
  "kernelspec": {
   "display_name": "conda_pytorch_p310",
   "language": "python",
   "name": "conda_pytorch_p310"
  },
  "language_info": {
   "codemirror_mode": {
    "name": "ipython",
    "version": 3
   },
   "file_extension": ".py",
   "mimetype": "text/x-python",
   "name": "python",
   "nbconvert_exporter": "python",
   "pygments_lexer": "ipython3",
   "version": "3.10.13"
  }
 },
 "nbformat": 4,
 "nbformat_minor": 5
}
