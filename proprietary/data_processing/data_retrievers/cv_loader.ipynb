{
 "cells": [
  {
   "cell_type": "code",
   "execution_count": 1,
   "id": "c635c543-4159-4cae-822c-00cd0d997fba",
   "metadata": {
    "tags": []
   },
   "outputs": [],
   "source": [
    "from sys import path\n",
    "path.append(\"/home/ec2-user/SageMaker/data-science-development/utils\")\n",
    "path.append(\"/home/ec2-user/SageMaker/data-science-development/config\")\n",
    "\n",
    "import pandas as pd\n",
    "import numpy as np\n",
    "import datetime as dt\n",
    "import matplotlib.pyplot as plt\n",
    "import pyarrow.parquet as pq\n",
    "import seaborn as sns\n",
    "import matplotlib.ticker as mtick\n",
    "\n",
    "import itertools\n",
    "import s3fs\n",
    "import os\n",
    "\n",
    "import random\n",
    "import json\n",
    "# import boto\n",
    "\n",
    "from datetime import datetime\n",
    "# from config import Config  \n",
    "from collections import defaultdict, Counter\n",
    "from tqdm import tqdm \n",
    "from itertools import zip_longest\n",
    "from contextlib import closing\n",
    "\n",
    "tqdm.pandas()"
   ]
  },
  {
   "cell_type": "code",
   "execution_count": 2,
   "id": "5192f63d-d706-46cd-8a2e-7a9e27a95e90",
   "metadata": {
    "tags": []
   },
   "outputs": [
    {
     "name": "stderr",
     "output_type": "stream",
     "text": [
      "/home/ec2-user/anaconda3/envs/pytorch_p310/lib/python3.10/site-packages/fsspec/registry.py:272: UserWarning: Your installed version of s3fs is very old and known to cause\n",
      "severe performance issues, see also https://github.com/dask/dask/issues/10276\n",
      "\n",
      "To fix, you should specify a lower version bound on s3fs, or\n",
      "update the current installation.\n",
      "\n",
      "  warnings.warn(s3_msg)\n"
     ]
    }
   ],
   "source": [
    "df_cvs = pd.read_parquet(\"s3://s3-nl-prd-semrb-emr-datascience/volodymyr.medentsiy/bi_encoders_poc/cv_vacancy_none_empty/part-00000-67976684-2f40-487d-b598-272398268ba9-c000.snappy.parquet\")"
   ]
  },
  {
   "cell_type": "code",
   "execution_count": 6,
   "id": "83214885-d695-4e00-87e8-8318561a5978",
   "metadata": {
    "tags": []
   },
   "outputs": [],
   "source": [
    "label_map = {-1: \"Rejected\", \n",
    "             0: \"Randomly sampled negative\",\n",
    "             1: \"Searched for / try-out phase / in portfolio / Approached\", \n",
    "             2: \"Approached but rejected by unit\", \n",
    "             3: \"Introduced / Getting interviewed\", \n",
    "             4: \"Discussing working conditions\", \n",
    "             5: \"Hired\"}"
   ]
  },
  {
   "cell_type": "code",
   "execution_count": 7,
   "id": "15c3c731-1336-4c57-ba8e-dd50e22462ff",
   "metadata": {
    "tags": []
   },
   "outputs": [],
   "source": [
    "label_map = pd.Series(label_map)"
   ]
  },
  {
   "cell_type": "code",
   "execution_count": 9,
   "id": "f7395053-ca99-4f90-b1f1-333fe4c2f192",
   "metadata": {
    "tags": []
   },
   "outputs": [],
   "source": [
    "df_cvs.to_csv(\"./cleaner_data/cv-vacancy-pairs.csv\")"
   ]
  },
  {
   "cell_type": "code",
   "execution_count": 10,
   "id": "46a9c073-0e98-4add-a532-a7177d50fa09",
   "metadata": {
    "tags": []
   },
   "outputs": [],
   "source": [
    "label_map.to_csv(\"./cleaner_data/matching-pairs-map.csv\")"
   ]
  },
  {
   "cell_type": "code",
   "execution_count": null,
   "id": "5da76337-b4c6-4897-b05a-fcfb01b314f7",
   "metadata": {},
   "outputs": [],
   "source": []
  }
 ],
 "metadata": {
  "kernelspec": {
   "display_name": "conda_pytorch_p310",
   "language": "python",
   "name": "conda_pytorch_p310"
  },
  "language_info": {
   "codemirror_mode": {
    "name": "ipython",
    "version": 3
   },
   "file_extension": ".py",
   "mimetype": "text/x-python",
   "name": "python",
   "nbconvert_exporter": "python",
   "pygments_lexer": "ipython3",
   "version": "3.10.13"
  }
 },
 "nbformat": 4,
 "nbformat_minor": 5
}
