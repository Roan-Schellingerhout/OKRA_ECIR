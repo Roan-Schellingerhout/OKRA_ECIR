{
 "cells": [
  {
   "cell_type": "code",
   "execution_count": 1,
   "id": "18183373-3df1-4e0c-ac27-96bc0b2e5aa2",
   "metadata": {
    "tags": []
   },
   "outputs": [
    {
     "name": "stdout",
     "output_type": "stream",
     "text": [
      "Collecting trino\n",
      "  Downloading trino-0.327.0-py3-none-any.whl.metadata (17 kB)\n",
      "Requirement already satisfied: python-dateutil in /home/ec2-user/anaconda3/envs/pytorch_p310/lib/python3.10/site-packages (from trino) (2.8.2)\n",
      "Requirement already satisfied: pytz in /home/ec2-user/anaconda3/envs/pytorch_p310/lib/python3.10/site-packages (from trino) (2023.3.post1)\n",
      "Requirement already satisfied: requests>=2.31.0 in /home/ec2-user/anaconda3/envs/pytorch_p310/lib/python3.10/site-packages (from trino) (2.31.0)\n",
      "Collecting tzlocal (from trino)\n",
      "  Downloading tzlocal-5.2-py3-none-any.whl.metadata (7.8 kB)\n",
      "Requirement already satisfied: charset-normalizer<4,>=2 in /home/ec2-user/anaconda3/envs/pytorch_p310/lib/python3.10/site-packages (from requests>=2.31.0->trino) (3.3.1)\n",
      "Requirement already satisfied: idna<4,>=2.5 in /home/ec2-user/anaconda3/envs/pytorch_p310/lib/python3.10/site-packages (from requests>=2.31.0->trino) (3.4)\n",
      "Requirement already satisfied: urllib3<3,>=1.21.1 in /home/ec2-user/anaconda3/envs/pytorch_p310/lib/python3.10/site-packages (from requests>=2.31.0->trino) (1.26.18)\n",
      "Requirement already satisfied: certifi>=2017.4.17 in /home/ec2-user/anaconda3/envs/pytorch_p310/lib/python3.10/site-packages (from requests>=2.31.0->trino) (2023.7.22)\n",
      "Requirement already satisfied: six>=1.5 in /home/ec2-user/anaconda3/envs/pytorch_p310/lib/python3.10/site-packages (from python-dateutil->trino) (1.16.0)\n",
      "Downloading trino-0.327.0-py3-none-any.whl (49 kB)\n",
      "\u001b[2K   \u001b[90m━━━━━━━━━━━━━━━━━━━━━━━━━━━━━━━━━━━━━━━━\u001b[0m \u001b[32m49.2/49.2 kB\u001b[0m \u001b[31m2.2 MB/s\u001b[0m eta \u001b[36m0:00:00\u001b[0m\n",
      "\u001b[?25hDownloading tzlocal-5.2-py3-none-any.whl (17 kB)\n",
      "Installing collected packages: tzlocal, trino\n",
      "Successfully installed trino-0.327.0 tzlocal-5.2\n",
      "Note: you may need to restart the kernel to use updated packages.\n"
     ]
    }
   ],
   "source": [
    "pip install trino"
   ]
  },
  {
   "cell_type": "code",
   "execution_count": 6,
   "id": "c635c543-4159-4cae-822c-00cd0d997fba",
   "metadata": {
    "tags": []
   },
   "outputs": [],
   "source": [
    "from sys import path\n",
    "path.append(\"/home/ec2-user/SageMaker/data-science-development/utils\")\n",
    "path.append(\"/home/ec2-user/SageMaker/data-science-development/config\")\n",
    "\n",
    "import pandas as pd\n",
    "import numpy as np\n",
    "import datetime as dt\n",
    "import matplotlib.pyplot as plt\n",
    "import pyarrow.parquet as pq\n",
    "import seaborn as sns\n",
    "import matplotlib.ticker as mtick\n",
    "\n",
    "import itertools\n",
    "import s3fs\n",
    "import os\n",
    "import torch\n",
    "import random\n",
    "import json\n",
    "# import boto\n",
    "import scipy\n",
    "# import sktime\n",
    "import trino\n",
    "\n",
    "from torch import nn\n",
    "from torch.autograd import Variable\n",
    "from torch.utils.data import TensorDataset, DataLoader, WeightedRandomSampler\n",
    "\n",
    "from sklearn.model_selection import train_test_split\n",
    "from sklearn.utils import class_weight\n",
    "\n",
    "from trino.dbapi import connect\n",
    "from trino.auth import OAuth2Authentication, BasicAuthentication\n",
    "\n",
    "from datetime import datetime\n",
    "# from config import Config  \n",
    "from collections import defaultdict, Counter\n",
    "from tqdm import tqdm \n",
    "from itertools import zip_longest\n",
    "from contextlib import closing\n",
    "\n",
    "tqdm.pandas()"
   ]
  },
  {
   "cell_type": "code",
   "execution_count": 7,
   "id": "14a921ea-348c-48c5-9549-bcc4b376aac1",
   "metadata": {
    "tags": []
   },
   "outputs": [],
   "source": [
    "conn = connect(\n",
    "           host=f'trino.prd.rgn',\n",
    "           port=443,\n",
    "           user=\"roan.schellingerhout@randstadgroep.nl\",\n",
    "           catalog='iceberg',\n",
    "           verify=\"certificate\",\n",
    "           http_scheme=\"https\",\n",
    "           auth=OAuth2Authentication()\n",
    "     )"
   ]
  },
  {
   "cell_type": "code",
   "execution_count": 8,
   "id": "a55d9e96-f8f9-4532-b918-946cb94fb798",
   "metadata": {
    "tags": []
   },
   "outputs": [],
   "source": [
    "cur = conn.cursor()"
   ]
  },
  {
   "cell_type": "code",
   "execution_count": null,
   "id": "39969df6-0496-417a-8ac1-5e7872c21b48",
   "metadata": {
    "tags": []
   },
   "outputs": [],
   "source": [
    "vacancy_data = cur.execute(\"\"\"SELECT DISTINCT * \n",
    "                              FROM datalake_prd_current_iceberg.vacancypublishingsystem_vacancies\"\"\").fetchall()"
   ]
  },
  {
   "cell_type": "code",
   "execution_count": 12,
   "id": "742aad8f-8955-4bd6-a486-a84f858eee74",
   "metadata": {
    "tags": []
   },
   "outputs": [
    {
     "data": {
      "text/plain": [
       "['operationtype',\n",
       " 'createddate',\n",
       " 'modifieddate',\n",
       " 'vacancynumber',\n",
       " 'versionnumber',\n",
       " 'publicationstatus',\n",
       " 'publicationstartdate',\n",
       " 'publicationenddate',\n",
       " 'vacancytype',\n",
       " 'requestsourcetype',\n",
       " 'requestsourceidentifier',\n",
       " 'requestsourceclientnumber',\n",
       " 'unitabbreviation',\n",
       " 'unitnumber',\n",
       " 'unitname',\n",
       " 'opco',\n",
       " 'maxapplicants',\n",
       " 'contracttype',\n",
       " 'contracttypecode',\n",
       " 'salarytype',\n",
       " 'salarytypecode',\n",
       " 'educationlevel',\n",
       " 'educationlevelcode',\n",
       " 'experience',\n",
       " 'experiencecode',\n",
       " 'fieldofwork',\n",
       " 'fieldofworkcode',\n",
       " 'functiongroup',\n",
       " 'functiongroupcode',\n",
       " 'industrycode',\n",
       " 'industrylabel',\n",
       " 'functioncode',\n",
       " 'functionlabel',\n",
       " 'titlefromrequest',\n",
       " 'vacancytitle',\n",
       " 'clientname',\n",
       " 'vacancyclientname',\n",
       " 'worklocationcity',\n",
       " 'worklocationpostalcode',\n",
       " 'worklocationlatitude',\n",
       " 'worklocationlongitude',\n",
       " 'clientshowlogo',\n",
       " 'clientshowname',\n",
       " 'maxtraveldistance',\n",
       " 'minsalary',\n",
       " 'maxsalary',\n",
       " 'hidesalary',\n",
       " 'minhoursperweek',\n",
       " 'maxhoursperweek',\n",
       " 'mindaysperweek',\n",
       " 'maxdaysperweek',\n",
       " 'jobstartdate',\n",
       " 'jobenddate',\n",
       " 'shiftwork',\n",
       " 'nightshift',\n",
       " 'weekendshift',\n",
       " 'vacationwork',\n",
       " 'jobboardtags',\n",
       " 'textvacancyfromoldvms',\n",
       " 'introductorytext',\n",
       " 'benefits',\n",
       " 'skillsintro',\n",
       " 'skillsbullets',\n",
       " 'taskintro',\n",
       " 'taskbullets',\n",
       " 'employerintro',\n",
       " 'employerbullets',\n",
       " 'callforaction',\n",
       " 'contactdisplayname',\n",
       " 'contactfunction',\n",
       " 'contactfreetext',\n",
       " 'contactphonenumber',\n",
       " 'contactemail',\n",
       " 'pagetextanalysisscore',\n",
       " 'pagetextanalysisreadinglevel',\n",
       " 'vacancylanguagecode',\n",
       " '_valid_from',\n",
       " '_batchid',\n",
       " '_batch_ts',\n",
       " '_input_file_name',\n",
       " '_metadata',\n",
       " 'sharingstartdate',\n",
       " 'sharingenddate',\n",
       " 'sbicode',\n",
       " 'sbilabel',\n",
       " '_partition_ts',\n",
       " '_update_ts']"
      ]
     },
     "execution_count": 12,
     "metadata": {},
     "output_type": "execute_result"
    }
   ],
   "source": [
    "headers = [i[0] for i in cur.description]\n",
    "\n",
    "headers"
   ]
  },
  {
   "cell_type": "code",
   "execution_count": 7,
   "id": "01c919a4-8d09-4b9e-9ea8-2b1671da0141",
   "metadata": {
    "tags": []
   },
   "outputs": [],
   "source": [
    "df = pd.DataFrame(data=vacancy_data, columns=headers)[['createddate', 'vacancynumber', 'versionnumber', 'vacancytype', 'requestsourcetype',\n",
    "                                                       'requestsourceidentifier', 'unitname', 'opco', 'maxapplicants', 'contracttype', 'salarytype',\n",
    "                                                       'educationlevel', 'experience', 'fieldofwork', 'functiongroup', 'industrylabel', 'functionlabel',\n",
    "                                                       'titlefromrequest', 'vacancytitle', 'clientname', 'vacancyclientname', 'worklocationcity',\n",
    "                                                       'worklocationpostalcode', 'worklocationlatitude', 'worklocationlongitude', 'clientshowlogo',\n",
    "                                                       'clientshowname', 'maxtraveldistance', 'minsalary', 'maxsalary', 'hidesalary', 'minhoursperweek',\n",
    "                                                       'maxhoursperweek', 'mindaysperweek', 'maxdaysperweek', 'jobstartdate', 'jobenddate', 'shiftwork',\n",
    "                                                       'nightshift', 'weekendshift', 'vacationwork', 'jobboardtags', 'textvacancyfromoldvms', 'introductorytext',\n",
    "                                                       'benefits', 'skillsintro', 'skillsbullets', 'taskintro', 'taskbullets', 'employerintro', 'employerbullets',\n",
    "                                                       'callforaction', 'contactdisplayname', 'contactfunction', 'contactfreetext', 'contactphonenumber',\n",
    "                                                       'contactemail', 'pagetextanalysisscore', 'pagetextanalysisreadinglevel', 'vacancylanguagecode', 'sbilabel']]"
   ]
  },
  {
   "cell_type": "code",
   "execution_count": 8,
   "id": "4ec9f394-ed96-4644-9e9b-9663f3247ab1",
   "metadata": {
    "tags": []
   },
   "outputs": [
    {
     "name": "stdout",
     "output_type": "stream",
     "text": [
      "<class 'pandas.core.frame.DataFrame'>\n",
      "RangeIndex: 173221 entries, 0 to 173220\n",
      "Data columns (total 61 columns):\n",
      " #   Column                        Non-Null Count   Dtype         \n",
      "---  ------                        --------------   -----         \n",
      " 0   createddate                   173221 non-null  datetime64[ns]\n",
      " 1   vacancynumber                 173221 non-null  int64         \n",
      " 2   versionnumber                 173221 non-null  int64         \n",
      " 3   vacancytype                   173221 non-null  object        \n",
      " 4   requestsourcetype             173221 non-null  object        \n",
      " 5   requestsourceidentifier       173221 non-null  object        \n",
      " 6   unitname                      173221 non-null  object        \n",
      " 7   opco                          173221 non-null  object        \n",
      " 8   maxapplicants                 173221 non-null  int64         \n",
      " 9   contracttype                  173221 non-null  object        \n",
      " 10  salarytype                    173221 non-null  object        \n",
      " 11  educationlevel                173218 non-null  object        \n",
      " 12  experience                    173218 non-null  object        \n",
      " 13  fieldofwork                   173221 non-null  object        \n",
      " 14  functiongroup                 168885 non-null  object        \n",
      " 15  industrylabel                 165436 non-null  object        \n",
      " 16  functionlabel                 173221 non-null  object        \n",
      " 17  titlefromrequest              173221 non-null  object        \n",
      " 18  vacancytitle                  173221 non-null  object        \n",
      " 19  clientname                    173221 non-null  object        \n",
      " 20  vacancyclientname             124478 non-null  object        \n",
      " 21  worklocationcity              173218 non-null  object        \n",
      " 22  worklocationpostalcode        173213 non-null  object        \n",
      " 23  worklocationlatitude          173221 non-null  object        \n",
      " 24  worklocationlongitude         173221 non-null  object        \n",
      " 25  clientshowlogo                173221 non-null  bool          \n",
      " 26  clientshowname                173221 non-null  bool          \n",
      " 27  maxtraveldistance             173221 non-null  int64         \n",
      " 28  minsalary                     173221 non-null  object        \n",
      " 29  maxsalary                     173221 non-null  object        \n",
      " 30  hidesalary                    173221 non-null  bool          \n",
      " 31  minhoursperweek               173221 non-null  int64         \n",
      " 32  maxhoursperweek               173221 non-null  int64         \n",
      " 33  mindaysperweek                173221 non-null  int64         \n",
      " 34  maxdaysperweek                173221 non-null  int64         \n",
      " 35  jobstartdate                  173221 non-null  object        \n",
      " 36  jobenddate                    173221 non-null  object        \n",
      " 37  shiftwork                     173221 non-null  bool          \n",
      " 38  nightshift                    173221 non-null  bool          \n",
      " 39  weekendshift                  173221 non-null  bool          \n",
      " 40  vacationwork                  173221 non-null  bool          \n",
      " 41  jobboardtags                  56470 non-null   object        \n",
      " 42  textvacancyfromoldvms         54030 non-null   object        \n",
      " 43  introductorytext              173212 non-null  object        \n",
      " 44  benefits                      173211 non-null  object        \n",
      " 45  skillsintro                   164312 non-null  object        \n",
      " 46  skillsbullets                 167602 non-null  object        \n",
      " 47  taskintro                     170657 non-null  object        \n",
      " 48  taskbullets                   127743 non-null  object        \n",
      " 49  employerintro                 172209 non-null  object        \n",
      " 50  employerbullets               103221 non-null  object        \n",
      " 51  callforaction                 173212 non-null  object        \n",
      " 52  contactdisplayname            173221 non-null  object        \n",
      " 53  contactfunction               167934 non-null  object        \n",
      " 54  contactfreetext               173008 non-null  object        \n",
      " 55  contactphonenumber            173221 non-null  object        \n",
      " 56  contactemail                  173221 non-null  object        \n",
      " 57  pagetextanalysisscore         173221 non-null  object        \n",
      " 58  pagetextanalysisreadinglevel  173098 non-null  object        \n",
      " 59  vacancylanguagecode           173076 non-null  object        \n",
      " 60  sbilabel                      49007 non-null   object        \n",
      "dtypes: bool(7), datetime64[ns](1), int64(8), object(45)\n",
      "memory usage: 72.5+ MB\n"
     ]
    }
   ],
   "source": [
    "df.info()"
   ]
  },
  {
   "cell_type": "code",
   "execution_count": 9,
   "id": "f14598af-101f-42f7-8829-86b95d982cce",
   "metadata": {
    "tags": []
   },
   "outputs": [
    {
     "name": "stderr",
     "output_type": "stream",
     "text": [
      "100%|██████████| 173221/173221 [01:53<00:00, 1519.82it/s]\n"
     ]
    }
   ],
   "source": [
    "# Template string\n",
    "template = \"\"\"Title: {vacancytitle}\n",
    "Company: {clientname}\n",
    "\n",
    "Introduction:\\n {introductorytext}\n",
    "\n",
    "Benefits:\\n {benefits}\n",
    "\n",
    "Skills:\\n {skillsintro}\\n {skillsbullets}\n",
    "\n",
    "Task:\\n {taskintro}\\n {taskbullets}\n",
    "\n",
    "Employer: {employerintro}\\n {employerbullets}\n",
    "\n",
    "{callforaction}\n",
    "\n",
    "Contact:\\n {contactfreetext}\n",
    "\"\"\"\n",
    "\n",
    "df[\"listing\"] = df.progress_apply(lambda x: template.format(**x[[\"vacancytitle\", \"clientname\", \"introductorytext\", \"benefits\", \"skillsintro\", \n",
    "                                                                 \"skillsbullets\", \"taskintro\", \"taskbullets\", \"employerintro\", \"employerbullets\", \n",
    "                                                                 \"callforaction\", \"contactfreetext\"]]), axis=1)"
   ]
  },
  {
   "cell_type": "code",
   "execution_count": 14,
   "id": "5192f63d-d706-46cd-8a2e-7a9e27a95e90",
   "metadata": {
    "tags": []
   },
   "outputs": [],
   "source": [
    "df[list(set(df.columns) - set([\"vacancytitle\", \"clientname\", \"introductorytext\", \"benefits\", \"skillsintro\", \"skillsbullets\", \"taskintro\", \"taskbullets\", \"employerintro\", \"employerbullets\", \"callforaction\", \"contactfreetext\"]))].to_csv(\"./cleaner_data/vacancies.csv\")"
   ]
  },
  {
   "cell_type": "code",
   "execution_count": null,
   "id": "83214885-d695-4e00-87e8-8318561a5978",
   "metadata": {},
   "outputs": [],
   "source": []
  }
 ],
 "metadata": {
  "kernelspec": {
   "display_name": "conda_pytorch_p310",
   "language": "python",
   "name": "conda_pytorch_p310"
  },
  "language_info": {
   "codemirror_mode": {
    "name": "ipython",
    "version": 3
   },
   "file_extension": ".py",
   "mimetype": "text/x-python",
   "name": "python",
   "nbconvert_exporter": "python",
   "pygments_lexer": "ipython3",
   "version": "3.10.13"
  }
 },
 "nbformat": 4,
 "nbformat_minor": 5
}
