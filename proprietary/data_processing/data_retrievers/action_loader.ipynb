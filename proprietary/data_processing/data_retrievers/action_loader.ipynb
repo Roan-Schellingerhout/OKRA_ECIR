{
 "cells": [
  {
   "cell_type": "code",
   "execution_count": 1,
   "id": "18183373-3df1-4e0c-ac27-96bc0b2e5aa2",
   "metadata": {
    "tags": []
   },
   "outputs": [
    {
     "name": "stdout",
     "output_type": "stream",
     "text": [
      "Collecting trino\n",
      "  Downloading trino-0.327.0-py3-none-any.whl.metadata (17 kB)\n",
      "Requirement already satisfied: python-dateutil in /home/ec2-user/anaconda3/envs/pytorch_p310/lib/python3.10/site-packages (from trino) (2.8.2)\n",
      "Requirement already satisfied: pytz in /home/ec2-user/anaconda3/envs/pytorch_p310/lib/python3.10/site-packages (from trino) (2023.3.post1)\n",
      "Requirement already satisfied: requests>=2.31.0 in /home/ec2-user/anaconda3/envs/pytorch_p310/lib/python3.10/site-packages (from trino) (2.31.0)\n",
      "Collecting tzlocal (from trino)\n",
      "  Downloading tzlocal-5.2-py3-none-any.whl.metadata (7.8 kB)\n",
      "Requirement already satisfied: charset-normalizer<4,>=2 in /home/ec2-user/anaconda3/envs/pytorch_p310/lib/python3.10/site-packages (from requests>=2.31.0->trino) (3.3.1)\n",
      "Requirement already satisfied: idna<4,>=2.5 in /home/ec2-user/anaconda3/envs/pytorch_p310/lib/python3.10/site-packages (from requests>=2.31.0->trino) (3.4)\n",
      "Requirement already satisfied: urllib3<3,>=1.21.1 in /home/ec2-user/anaconda3/envs/pytorch_p310/lib/python3.10/site-packages (from requests>=2.31.0->trino) (1.26.18)\n",
      "Requirement already satisfied: certifi>=2017.4.17 in /home/ec2-user/anaconda3/envs/pytorch_p310/lib/python3.10/site-packages (from requests>=2.31.0->trino) (2023.7.22)\n",
      "Requirement already satisfied: six>=1.5 in /home/ec2-user/anaconda3/envs/pytorch_p310/lib/python3.10/site-packages (from python-dateutil->trino) (1.16.0)\n",
      "Downloading trino-0.327.0-py3-none-any.whl (49 kB)\n",
      "\u001b[2K   \u001b[90m━━━━━━━━━━━━━━━━━━━━━━━━━━━━━━━━━━━━━━━━\u001b[0m \u001b[32m49.2/49.2 kB\u001b[0m \u001b[31m2.3 MB/s\u001b[0m eta \u001b[36m0:00:00\u001b[0m\n",
      "\u001b[?25hDownloading tzlocal-5.2-py3-none-any.whl (17 kB)\n",
      "Installing collected packages: tzlocal, trino\n",
      "Successfully installed trino-0.327.0 tzlocal-5.2\n",
      "Note: you may need to restart the kernel to use updated packages.\n"
     ]
    }
   ],
   "source": [
    "pip install trino"
   ]
  },
  {
   "cell_type": "code",
   "execution_count": 2,
   "id": "c635c543-4159-4cae-822c-00cd0d997fba",
   "metadata": {
    "tags": []
   },
   "outputs": [],
   "source": [
    "from sys import path\n",
    "path.append(\"/home/ec2-user/SageMaker/data-science-development/utils\")\n",
    "path.append(\"/home/ec2-user/SageMaker/data-science-development/config\")\n",
    "\n",
    "import pandas as pd\n",
    "import numpy as np\n",
    "import datetime as dt\n",
    "import matplotlib.pyplot as plt\n",
    "import pyarrow.parquet as pq\n",
    "import seaborn as sns\n",
    "import matplotlib.ticker as mtick\n",
    "\n",
    "import itertools\n",
    "import s3fs\n",
    "import os\n",
    "import torch\n",
    "import random\n",
    "import json\n",
    "# import boto\n",
    "import scipy\n",
    "# import sktime\n",
    "import trino\n",
    "\n",
    "from torch import nn\n",
    "from torch.autograd import Variable\n",
    "from torch.utils.data import TensorDataset, DataLoader, WeightedRandomSampler\n",
    "\n",
    "from sklearn.model_selection import train_test_split\n",
    "from sklearn.utils import class_weight\n",
    "\n",
    "from trino.dbapi import connect\n",
    "from trino.auth import OAuth2Authentication, BasicAuthentication\n",
    "\n",
    "from datetime import datetime\n",
    "# from config import Config  \n",
    "from collections import defaultdict, Counter\n",
    "from tqdm import tqdm \n",
    "from itertools import zip_longest\n",
    "from contextlib import closing\n",
    "\n",
    "tqdm.pandas()"
   ]
  },
  {
   "cell_type": "code",
   "execution_count": 3,
   "id": "14a921ea-348c-48c5-9549-bcc4b376aac1",
   "metadata": {
    "tags": []
   },
   "outputs": [],
   "source": [
    "conn = connect(\n",
    "           host=f'trino.prd.rgn',\n",
    "           port=443,\n",
    "           user=\"roan.schellingerhout@randstadgroep.nl\",\n",
    "           catalog='iceberg',\n",
    "           verify=\"certificate\",\n",
    "           http_scheme=\"https\",\n",
    "           auth=OAuth2Authentication()\n",
    "     )"
   ]
  },
  {
   "cell_type": "code",
   "execution_count": 4,
   "id": "a55d9e96-f8f9-4532-b918-946cb94fb798",
   "metadata": {
    "tags": []
   },
   "outputs": [],
   "source": [
    "cur = conn.cursor()"
   ]
  },
  {
   "cell_type": "code",
   "execution_count": 6,
   "id": "39969df6-0496-417a-8ac1-5e7872c21b48",
   "metadata": {
    "tags": []
   },
   "outputs": [
    {
     "name": "stdout",
     "output_type": "stream",
     "text": [
      "Open the following URL in browser for the external authentication:\n",
      "https://trino.prd.rgn/oauth2/token/initiate/e63b6f247caa065134545a85dde01e9657c394b1f3da9f1455f47b2c7ff2ed05\n"
     ]
    }
   ],
   "source": [
    "request_data = cur.execute(open(\"./sql/action_log.sql\").read()).fetchall()"
   ]
  },
  {
   "cell_type": "code",
   "execution_count": 7,
   "id": "742aad8f-8955-4bd6-a486-a84f858eee74",
   "metadata": {
    "tags": []
   },
   "outputs": [
    {
     "data": {
      "text/plain": [
       "['candidate_id', 'request_mondriaan_number', 'action_code', 'date_action']"
      ]
     },
     "execution_count": 7,
     "metadata": {},
     "output_type": "execute_result"
    }
   ],
   "source": [
    "headers = [i[0] for i in cur.description]\n",
    "\n",
    "headers"
   ]
  },
  {
   "cell_type": "code",
   "execution_count": 8,
   "id": "01c919a4-8d09-4b9e-9ea8-2b1671da0141",
   "metadata": {
    "tags": []
   },
   "outputs": [],
   "source": [
    "df = pd.DataFrame(data=request_data, columns=headers)"
   ]
  },
  {
   "cell_type": "code",
   "execution_count": 9,
   "id": "4ec9f394-ed96-4644-9e9b-9663f3247ab1",
   "metadata": {
    "tags": []
   },
   "outputs": [
    {
     "name": "stdout",
     "output_type": "stream",
     "text": [
      "<class 'pandas.core.frame.DataFrame'>\n",
      "RangeIndex: 3850886 entries, 0 to 3850885\n",
      "Data columns (total 4 columns):\n",
      " #   Column                    Dtype         \n",
      "---  ------                    -----         \n",
      " 0   candidate_id              int64         \n",
      " 1   request_mondriaan_number  int64         \n",
      " 2   action_code               object        \n",
      " 3   date_action               datetime64[ns]\n",
      "dtypes: datetime64[ns](1), int64(2), object(1)\n",
      "memory usage: 117.5+ MB\n"
     ]
    }
   ],
   "source": [
    "df.info()"
   ]
  },
  {
   "cell_type": "code",
   "execution_count": 11,
   "id": "5192f63d-d706-46cd-8a2e-7a9e27a95e90",
   "metadata": {
    "tags": []
   },
   "outputs": [],
   "source": [
    "df.to_csv(\"./cleaner_data/actions.csv\")"
   ]
  },
  {
   "cell_type": "code",
   "execution_count": null,
   "id": "83214885-d695-4e00-87e8-8318561a5978",
   "metadata": {},
   "outputs": [],
   "source": []
  }
 ],
 "metadata": {
  "kernelspec": {
   "display_name": "conda_pytorch_p310",
   "language": "python",
   "name": "conda_pytorch_p310"
  },
  "language_info": {
   "codemirror_mode": {
    "name": "ipython",
    "version": 3
   },
   "file_extension": ".py",
   "mimetype": "text/x-python",
   "name": "python",
   "nbconvert_exporter": "python",
   "pygments_lexer": "ipython3",
   "version": "3.10.13"
  }
 },
 "nbformat": 4,
 "nbformat_minor": 5
}
