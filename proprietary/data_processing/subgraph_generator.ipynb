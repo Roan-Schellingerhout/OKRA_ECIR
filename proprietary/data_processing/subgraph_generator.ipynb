{
 "cells": [
  {
   "cell_type": "code",
   "execution_count": null,
   "id": "aaead71a-f464-416b-a1c9-224f5b6766e2",
   "metadata": {
    "tags": []
   },
   "outputs": [],
   "source": [
    "import pandas as pd\n",
    "import numpy as np\n",
    "import networkx as nx\n",
    "\n",
    "import re\n",
    "import itertools\n",
    "import pickle\n",
    "import json\n",
    "import datetime\n",
    "\n",
    "from tqdm.notebook import tqdm\n",
    "from collections import defaultdict"
   ]
  },
  {
   "cell_type": "code",
   "execution_count": null,
   "id": "fa0e56b6-586c-46b3-92ac-69c5008ebcf9",
   "metadata": {
    "tags": []
   },
   "outputs": [],
   "source": [
    "df_pairs = pd.read_csv(\"./cleaner_data/cv-vacancy-pairs.csv\")"
   ]
  },
  {
   "cell_type": "code",
   "execution_count": null,
   "id": "5b2823a1-70c4-4ae6-aff5-02827f6ba45d",
   "metadata": {
    "tags": []
   },
   "outputs": [],
   "source": [
    "# We only consider candidates with at least 5 matching vacancies in the dataset\n",
    "# This not only saves time, but also improves results later on\n",
    "candidate_counts = df_pairs[df_pairs[\"label\"] > 0].groupby(\"candidate_id\")[\"request_mondriaan_number\"].count()\n",
    "candidate_list = candidate_counts[candidate_counts >= 3].index\n",
    "\n",
    "candidate_list"
   ]
  },
  {
   "cell_type": "code",
   "execution_count": null,
   "id": "e858d665-8141-4359-acdc-510c8e2536a7",
   "metadata": {
    "tags": []
   },
   "outputs": [],
   "source": [
    "G = nx.DiGraph()\n",
    "\n",
    "with open(\"kg.edgelist\") as f:\n",
    "    for line in tqdm(f.readlines()):\n",
    "        \n",
    "        # Some literals got assigned the wrong datatype - TODO\n",
    "        if \"err:error\" in line:\n",
    "            continue\n",
    "            \n",
    "        s, p, o = eval(line)\n",
    "        G.add_edge(s, o, edge_type=p)"
   ]
  },
  {
   "cell_type": "code",
   "execution_count": null,
   "id": "d3241bd0-dfc7-4ae8-92fe-acb67da52fb4",
   "metadata": {
    "tags": []
   },
   "outputs": [],
   "source": [
    "list(G.nodes)[:10]"
   ]
  },
  {
   "cell_type": "code",
   "execution_count": null,
   "id": "dd5afea0-5465-429a-8425-9d657cde1d48",
   "metadata": {
    "tags": []
   },
   "outputs": [],
   "source": [
    "all_neighbors = {}\n",
    "\n",
    "H = G.to_undirected()\n",
    "\n",
    "for n in tqdm(G.nodes):\n",
    "    all_neighbors[n] = set(H.neighbors(n))\n",
    "    \n",
    "all_neighbors = {k: {i for i in v if not pd.isna(i)} for k, v in all_neighbors.items()}"
   ]
  },
  {
   "cell_type": "code",
   "execution_count": null,
   "id": "94130f6f-409b-42f2-a79f-80ec04ff67b5",
   "metadata": {
    "tags": []
   },
   "outputs": [],
   "source": [
    "for row in tqdm(df_pairs.itertuples(), total=274407):\n",
    "    cv = re.sub(\"\\n+\", \" \\n \", row[8]).lower()\n",
    "    vacancy = re.sub(\"\\n+\", \" \\n \", row[7]).lower()\n",
    "    \n",
    "    nx.set_node_attributes(H, {f\"rne:c{row[4]}\": cv}, \"CV\")\n",
    "    nx.set_node_attributes(H, {f\"rne:r{row[5]}\": vacancy}, \"vacancy\")"
   ]
  },
  {
   "cell_type": "code",
   "execution_count": null,
   "id": "4397e9f3-2e11-4a54-b730-a85912edd0f9",
   "metadata": {
    "tags": []
   },
   "outputs": [],
   "source": [
    "def convert_to_number(value):\n",
    "    try:\n",
    "        result = float(value)\n",
    "        # Check if the float is actually an integer (e.g., '4110.0')\n",
    "        if result.is_integer():\n",
    "            return int(result)\n",
    "        return result\n",
    "    except ValueError:\n",
    "        return value\n",
    "    \n",
    "\n",
    "def k_walk(G, a, b, all_neighbors, k=6, walks=100):\n",
    "    sub_graph = []\n",
    "            \n",
    "    # Number of walks\n",
    "    for _ in range(walks):\n",
    "        path = ()\n",
    "        \n",
    "        visited = set()\n",
    "        \n",
    "        prev_node = a\n",
    "        old = None\n",
    "        \n",
    "        # Length of each walk\n",
    "        for _ in range(k):\n",
    "            # Choose a random neighbor of our current node\n",
    "            candidates = all_neighbors[prev_node] # if prev_node in all_neighbors else set(G.neighbors(prev_node))\n",
    "                \n",
    "            # Don't backtrack unless absolutely necessary\n",
    "            if old and len(candidates) > 1:\n",
    "                candidates = candidates - set([old])\n",
    "            \n",
    "            # If we can reach the target from the current node, \n",
    "            # do so, as long as that wouldn't create a duplicate path\n",
    "            if b in candidates and (prev_node, b) not in set(sub_graph):\n",
    "                next_node = b\n",
    "            else:\n",
    "                if candidates:\n",
    "                    next_node = np.random.choice(list(candidates))\n",
    "                    \n",
    "                    if next_node in visited:\n",
    "                        continue\n",
    "                    else:\n",
    "                        visited.add(next_node)                    \n",
    "                else:\n",
    "                    break\n",
    "            \n",
    "            path += (prev_node, next_node),\n",
    "\n",
    "            # Update\n",
    "            old = prev_node\n",
    "            prev_node = next_node\n",
    "            \n",
    "            # If we found the target, store\n",
    "            if next_node == b:\n",
    "                sub_graph.extend(path)\n",
    "                break\n",
    "                \n",
    "    sg = set(sub_graph)\n",
    "    sg -= {(a, b)}\n",
    "    sg -= {(b, a)}\n",
    "                \n",
    "    H = G.edge_subgraph(sg)\n",
    "               \n",
    "    return H"
   ]
  },
  {
   "cell_type": "code",
   "execution_count": null,
   "id": "c9713319-f1f3-4818-812e-7c55bbecba79",
   "metadata": {
    "tags": []
   },
   "outputs": [],
   "source": [
    "def create_jsons(G, all_neighbors, k=10, walks=50):\n",
    "        \n",
    "    error = \"\"\n",
    "        \n",
    "    for i, candidate in tqdm(enumerate(candidate_list), total=len(candidate_list)):\n",
    "        # k_walk(H, \"rne:c4783221\", \"rne:r2307362\", all_neighbors, k=10, walks=50)\n",
    "\n",
    "        # Find all misses for the current candidate - these can either be explicit or implicit\n",
    "        # Store only the first 15, as we do not need, for example, 456 matching vacancies for a single candidate\n",
    "        try:\n",
    "            hits = df_pairs[(df_pairs[\"candidate_id\"] == candidate) & (df_pairs[\"label\"] > 0)][[\"request_mondriaan_number\", \"label\"]][:15]\n",
    "\n",
    "            n_hits = len(hits)\n",
    "\n",
    "            # Select 30-n_hits misses, so we have 30 (non-)matching vacancies per candidate\n",
    "            misses = df_pairs[((df_pairs[\"candidate_id\"] == candidate) & (df_pairs[\"label\"] <= 0)) | ((df_pairs[\"candidate_id\"] != candidate))][[\"request_mondriaan_number\", \"label\"]].sample(30-n_hits)\n",
    "\n",
    "            record = \"\"\n",
    "\n",
    "            missed_graphs = defaultdict(lambda : defaultdict(dict))\n",
    "            hit_graphs = defaultdict(lambda : defaultdict(dict))\n",
    "\n",
    "            for miss in misses.itertuples():\n",
    "                graph = k_walk(H, f\"rne:c{candidate}\", f\"rne:r{miss[1]}\", all_neighbors, k=k, walks=walks)\n",
    "\n",
    "                if graph:\n",
    "                    record += f\"c{candidate},r{miss[1]},{miss[2] if miss[2] <= 0 else 0}\\n\"    \n",
    "                    missed_graphs[miss[1]] = nx.node_link_data(graph)\n",
    "\n",
    "            for hit in hits.itertuples():\n",
    "                graph = k_walk(H, f\"rne:c{candidate}\", f\"rne:r{miss[1]}\", all_neighbors, k=k, walks=walks)\n",
    "\n",
    "                if graph:\n",
    "                    record += f\"c{candidate},r{hit[1]},{miss[2]}\\n\"    \n",
    "                    hit_graphs[hit[1]] = nx.node_link_data(graph)\n",
    "\n",
    "            with open(f\"graph_data/misses/c{candidate}.json\", \"w\") as f1:\n",
    "                json.dump(missed_graphs, f1)\n",
    "\n",
    "            with open(f\"graph_data/hits/c{candidate}.json\", \"w\") as f1:\n",
    "                json.dump(hit_graphs, f1)\n",
    "\n",
    "            with open(f\"graph_data/ground_truth/c{candidate}.csv\", \"w\") as f1:\n",
    "                f1.write(record)\n",
    "        except Exception as e:\n",
    "            error = str(e)\n",
    "            \n",
    "        with open(\"log.txt\", \"a\") as f:\n",
    "            if error:\n",
    "                f.write(f\"{datetime.datetime.now()} - {i}/{len(candidate_list)} - error: {error}\\n\")\n",
    "                error = \"\"\n",
    "            else:\n",
    "                f.write(f\"{datetime.datetime.now()} - {i}/{len(candidate_list)} - successfully written\\n\")"
   ]
  },
  {
   "cell_type": "code",
   "execution_count": null,
   "id": "8c4514d1-c93f-41ec-98e7-52d4d66e2410",
   "metadata": {
    "tags": []
   },
   "outputs": [],
   "source": [
    "create_jsons(H, all_neighbors, k=7, walks=25)"
   ]
  },
  {
   "cell_type": "code",
   "execution_count": null,
   "id": "2a41eae7-5d3d-46c7-866d-a50dd3d49bdb",
   "metadata": {},
   "outputs": [],
   "source": []
  }
 ],
 "metadata": {
  "kernelspec": {
   "display_name": "Python 3 (ipykernel)",
   "language": "python",
   "name": "python3"
  },
  "language_info": {
   "codemirror_mode": {
    "name": "ipython",
    "version": 3
   },
   "file_extension": ".py",
   "mimetype": "text/x-python",
   "name": "python",
   "nbconvert_exporter": "python",
   "pygments_lexer": "ipython3",
   "version": "3.12.4"
  }
 },
 "nbformat": 4,
 "nbformat_minor": 5
}
