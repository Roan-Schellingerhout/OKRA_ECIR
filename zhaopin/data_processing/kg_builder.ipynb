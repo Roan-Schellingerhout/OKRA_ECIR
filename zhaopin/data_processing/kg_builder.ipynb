{
 "cells": [
  {
   "cell_type": "code",
   "execution_count": null,
   "id": "989aed30-5771-4ae5-9bc4-d66ff0edf0d3",
   "metadata": {},
   "outputs": [],
   "source": [
    "import pandas as pd\n",
    "import numpy as np\n",
    "import networkx as nx\n",
    "\n",
    "import pickle\n",
    "import rdflib \n",
    "import re\n",
    "\n",
    "import itertools\n",
    "import matplotlib\n",
    "import time\n",
    "import json\n",
    "\n",
    "from urllib3.exceptions import ProtocolError\n",
    "# from ssl.exceptions import ConnectionAbortedError\n",
    "from requests.exceptions import ChunkedEncodingError\n",
    "from tqdm.notebook import tqdm\n",
    "from collections import defaultdict"
   ]
  },
  {
   "cell_type": "markdown",
   "id": "62146f82-3f7a-4cf9-8754-1c390ba99d21",
   "metadata": {},
   "source": [
    "# Loading and cleaning data"
   ]
  },
  {
   "cell_type": "code",
   "execution_count": null,
   "id": "cdb0d597-bf06-48bc-bf4d-9bb4768f6edc",
   "metadata": {},
   "outputs": [],
   "source": [
    "users = pd.read_csv(\"../source_data/table1_user.txt\", delimiter=\"\\t\")\n",
    "users.head()"
   ]
  },
  {
   "cell_type": "code",
   "execution_count": null,
   "id": "3073390e-0bbc-43fe-80d7-adfae3227ee3",
   "metadata": {},
   "outputs": [],
   "source": [
    "len(users[\"user_id\"].unique())"
   ]
  },
  {
   "cell_type": "code",
   "execution_count": null,
   "id": "7d10c12f",
   "metadata": {},
   "outputs": [],
   "source": [
    "users.size"
   ]
  },
  {
   "cell_type": "code",
   "execution_count": null,
   "id": "97b86134-4809-40d8-a7e5-6160508cb491",
   "metadata": {},
   "outputs": [],
   "source": [
    "def splitter(x):    \n",
    "    x = str(x)\n",
    "    \n",
    "    # Some ranges can be even, in which case we can simply turn the middle 0 into a -\n",
    "    if len(x) % 2 == 0:\n",
    "        return x[:len(x)//2] + \"-\" + x[len(x)//2:] \n",
    "    else: # IDs of uneven length are trickier\n",
    "        y = list(x)\n",
    "        \n",
    "        # Some ranges do not have the 'inbetween 0', so we need to add, rather than replace\n",
    "        if y[len(x)//2] != \"0\":\n",
    "            return x[:len(x)//2] + \"-\" + x[len(x)//2:] \n",
    "\n",
    "        # Those that do have the inbetween 0, can just have it replaced\n",
    "        y[len(x)//2] = \"-\"\n",
    "        x = \"\".join(y)\n",
    "        return x\n",
    "    \n",
    "# Apply\n",
    "users[\"desire_jd_salary_id\"] = users[\"desire_jd_salary_id\"].apply(lambda x: splitter(x))\n",
    "users[\"cur_salary_id\"] = users[\"cur_salary_id\"].apply(lambda x: splitter(x))"
   ]
  },
  {
   "cell_type": "code",
   "execution_count": null,
   "id": "e8554d02-7548-4bce-95e5-eae63fa504be",
   "metadata": {},
   "outputs": [],
   "source": [
    "jds = pd.read_csv(\"../source_data/table2_jd.txt\", delimiter=\"\\t\", on_bad_lines=\"skip\")\n",
    "jds.head()"
   ]
  },
  {
   "cell_type": "code",
   "execution_count": null,
   "id": "1455ffe9-c3eb-43aa-8ec9-98300bcb564e",
   "metadata": {},
   "outputs": [],
   "source": [
    "len(jds[\"jd_no\"].unique())"
   ]
  },
  {
   "cell_type": "code",
   "execution_count": null,
   "id": "032ef3a8-f80c-4db4-b6f2-bf8bb79729c8",
   "metadata": {},
   "outputs": [],
   "source": [
    "jds.size"
   ]
  },
  {
   "cell_type": "code",
   "execution_count": null,
   "id": "867dabdf-3b8b-422c-801f-5951c02b83b1",
   "metadata": {},
   "outputs": [],
   "source": [
    "actions = pd.read_csv(\"../source_data/table3_action.txt\", delimiter=\"\\t\")\n",
    "actions.head()"
   ]
  },
  {
   "cell_type": "code",
   "execution_count": null,
   "id": "c87c8439",
   "metadata": {},
   "outputs": [],
   "source": [
    "actions.size"
   ]
  },
  {
   "cell_type": "code",
   "execution_count": null,
   "id": "5461fd61-862f-464b-8fde-186cdedcf75b",
   "metadata": {},
   "outputs": [],
   "source": [
    "# Store the hexadecimal IDs as regular numbers\n",
    "uid_to_num = dict(zip(users[\"user_id\"], [f\"u{i}\" for i in range(len(users))]))\n",
    "jid_to_num = dict(zip(jds[\"jd_no\"], [f\"j{i}\" for i in range(len(jds))]))"
   ]
  },
  {
   "cell_type": "code",
   "execution_count": null,
   "id": "439747bd-c620-4d55-8e89-5240ca6aac03",
   "metadata": {},
   "outputs": [],
   "source": [
    "users[\"user_id\"] = users[\"user_id\"].apply(lambda x: uid_to_num[x])\n",
    "jds[\"jd_no\"] = jds[\"jd_no\"].apply(lambda x: jid_to_num[x])\n",
    "\n",
    "actions[\"user_id\"] = actions[\"user_id\"].apply(lambda x: uid_to_num[x] if x in uid_to_num else np.nan)\n",
    "actions[\"jd_no\"] = actions[\"jd_no\"].apply(lambda x: jid_to_num[x] if x in jid_to_num else np.nan)"
   ]
  },
  {
   "cell_type": "code",
   "execution_count": null,
   "id": "3d879402",
   "metadata": {},
   "outputs": [],
   "source": [
    "users[[\"user_id\", \"experience\"]].to_csv(\"cv_data.csv\")\n",
    "jds[[\"jd_no\", \"jd_title\", \"job_description\"]].to_csv(\"jd_data.csv\")"
   ]
  },
  {
   "cell_type": "code",
   "execution_count": null,
   "id": "6d36187d-5242-45fc-8b0d-0e076831b362",
   "metadata": {},
   "outputs": [],
   "source": [
    "cvs = users[[\"user_id\", \"experience\"]]\n",
    "descriptions = jds[[\"jd_no\", \"jd_title\", \"job_description\"]]\n",
    "\n",
    "descriptions.loc[:, \"full_text\"] = jds[\"jd_title\"].str.cat(jds['job_description'], sep='\\n')\n",
    "\n",
    "descriptions = descriptions[[\"jd_no\", \"full_text\"]]"
   ]
  },
  {
   "cell_type": "code",
   "execution_count": null,
   "id": "af048e5b-4b76-4b79-8d92-3c60de6d2a74",
   "metadata": {},
   "outputs": [],
   "source": [
    "actions[\"label\"] = actions[[\"browsed\", \"delivered\", \"satisfied\"]].sum(axis=1)\n",
    "labels = actions[[\"user_id\", \"jd_no\", \"label\"]]\n",
    "\n",
    "textual_dataset = pd.merge(labels, cvs, left_on=\"user_id\", right_on=\"user_id\")\n",
    "textual_dataset = pd.merge(textual_dataset, descriptions, left_on=\"jd_no\", right_on=\"jd_no\")\n",
    "textual_dataset = textual_dataset[[\"user_id\", \"experience\", \"jd_no\", \"full_text\", \"label\"]]\n",
    "\n",
    "textual_dataset.to_csv(\"cv_vacancy_data.tsv\", sep=\"\\t\")"
   ]
  },
  {
   "cell_type": "code",
   "execution_count": null,
   "id": "0ce01c5b",
   "metadata": {},
   "outputs": [],
   "source": [
    "actions.to_csv(\"actions_updated.csv\")"
   ]
  },
  {
   "cell_type": "code",
   "execution_count": null,
   "id": "982a5f9c-ccb7-44c5-ad92-d16d13875c78",
   "metadata": {},
   "outputs": [],
   "source": [
    "user_desire_industry = users[[\"user_id\", \"desire_jd_industry_id\"]].set_index(\"user_id\").squeeze().replace('[(\\（\\().*\\)]','', regex=True).str.split(r\"[/|,、]\").explode()\n",
    "user_desire_type = users[[\"user_id\", \"desire_jd_type_id\"]].set_index(\"user_id\").squeeze().replace('[(\\（\\().*\\)]','', regex=True).str.split(r\"[/|,、]\").explode()\n",
    "user_current_industry = users[[\"user_id\", \"cur_industry_id\"]].set_index(\"user_id\").squeeze().replace('[(\\（\\().*\\)]','', regex=True).str.split(r\"[/|,、]\").explode()\n",
    "user_cur_type = users[[\"user_id\", \"cur_jd_type\"]].set_index(\"user_id\").squeeze().replace('[(\\（\\().*\\)]','', regex=True).str.split(r\"[/|,、]\").explode()\n",
    "user_degree = users[[\"user_id\", \"cur_degree_id\"]].set_index(\"user_id\").squeeze().replace('[(\\（\\().*\\)]','', regex=True).str.split(r\"[/|,、]\").explode()\n",
    "user_experience = users[[\"user_id\", \"experience\"]].set_index(\"user_id\").squeeze().replace('[(\\（\\().*\\)]','', regex=True).str.split(r\"[/|,、]\").explode()"
   ]
  },
  {
   "cell_type": "code",
   "execution_count": null,
   "id": "6cbae67f-04b4-4e6c-86c2-f20fe7918c7a",
   "metadata": {},
   "outputs": [],
   "source": [
    "jds_sub_type = jds[[\"jd_no\", \"jd_sub_type\"]].set_index(\"jd_no\").squeeze().replace('[(\\（\\().*\\)]','', regex=True).str.split(r\"[/|,、]\").explode()\n",
    "jds_min_degree = jds[[\"jd_no\", \"min_edu_level\"]].set_index(\"jd_no\").squeeze().replace('[(\\（\\().*\\)]','', regex=True).str.split(r\"[/|,、]\").explode()\n",
    "jds_max_degree = jds[[\"jd_no\", \"max_edu_level\"]].set_index(\"jd_no\").squeeze().replace('[(\\（\\().*\\)]','', regex=True).str.split(r\"[/|,、]\").explode()"
   ]
  },
  {
   "cell_type": "markdown",
   "id": "80f857fc-71c1-47fa-a85e-9e9eae9ac62c",
   "metadata": {},
   "source": [
    "# Creating the Knowledge Graph"
   ]
  },
  {
   "cell_type": "code",
   "execution_count": null,
   "id": "fd1f549d",
   "metadata": {},
   "outputs": [],
   "source": [
    "namespaces = {\n",
    "    \"znp\" : \"http://zhaopin.com/property/\",\n",
    "    \"znd\" : \"http://zhaopin.com/ontology/\",\n",
    "    \"zne\" : \"http://zhaopin.com/entity/\",\n",
    "    \"dbp\": \"http://dbpedia.org/property/\",\n",
    "    \"dbo\": \"http://dbpedia.org/ontology/\",\n",
    "    \"dbr\": \"http://dbpedia.org/resource/\",\n",
    "    \"owl\": \"http://www.w3.org/2002/07/owl#\",\n",
    "    \"rdfs\": \"http://www.w3.org/2000/01/rdf-schema#\",\n",
    "    \"foaf\": \"http://xmlns.com/foaf/0.1/\"\n",
    "}"
   ]
  },
  {
   "cell_type": "code",
   "execution_count": null,
   "id": "98e685a9",
   "metadata": {},
   "outputs": [],
   "source": [
    "kg = kglab.KnowledgeGraph(\n",
    "    name = \"Zhaopin KG\",\n",
    "    namespaces = namespaces,\n",
    "    base_uri = \"https://www.example.com/entity/\")"
   ]
  },
  {
   "cell_type": "code",
   "execution_count": null,
   "id": "11140d2e",
   "metadata": {},
   "outputs": [],
   "source": [
    "users[\"cur_degree_id\"].value_counts()"
   ]
  },
  {
   "cell_type": "code",
   "execution_count": null,
   "id": "8de98183",
   "metadata": {},
   "outputs": [],
   "source": [
    "# Define ontology lay-out\n",
    "\n",
    "# Classes\n",
    "\n",
    "# Candidate is a class, and a candidate is a person\n",
    "kg.add(kg.get_ns(\"znd\").Candidate, kg.get_ns(\"rdf\").type, kg.get_ns(\"owl\").Class)\n",
    "kg.add(kg.get_ns(\"znd\").Candidate, kg.get_ns(\"rdfs\").subClassOf, kg.get_ns(\"foaf\").Person)\n",
    "\n",
    "# Function is a class, and is equivalent to employment\n",
    "kg.add(kg.get_ns(\"znd\").Function, kg.get_ns(\"rdf\").type, kg.get_ns(\"owl\").Class)\n",
    "kg.add(kg.get_ns(\"znd\").Function, kg.get_ns(\"owl\").equivalentClass, kg.get_ns(\"dbr\").Employment)\n",
    "\n",
    "# Position is a class\n",
    "kg.add(kg.get_ns(\"znd\").Position, kg.get_ns(\"rdf\").type, kg.get_ns(\"owl\").Class)\n",
    "\n",
    "# Add educations and their ordering\n",
    "# PhD, Master's, Bachelor's, college, MBA, EMBA, Technical secondary school, Senior high school, junior high school, other\n",
    "edus = [\"博士\", \"硕士\", \"本科\", \"大专\", \"MBA\", \"EMBA\", \"中专\", \"中技\", \"高中\", \"初中\", \"其他\"] \n",
    "\n",
    "for i, edu in enumerate(edus):\n",
    "    kg.add(eval(f\"kg.get_ns('zne').edu_{edu}\"), kg.get_ns(\"rdf\").type, kg.get_ns(\"znd\").Education)\n",
    "    \n",
    "    for edu2 in edus[i+1:]:\n",
    "        kg.add(eval(f\"kg.get_ns('zne').edu_{edu}\"), kg.get_ns(\"znp\").supersedes, eval(f\"kg.get_ns('zne').edu_{edu2}\"))\n",
    "\n",
    "# Company is a class, it offers functions, and candidates work there\n",
    "kg.add(kg.get_ns(\"znd\").Company, kg.get_ns(\"rdf\").type, kg.get_ns(\"owl\").Class)\n",
    "kg.add(kg.get_ns(\"znd\").Company, kg.get_ns(\"znp\").offers_function, kg.get_ns(\"znd\").Function)\n",
    "kg.add(kg.get_ns(\"znd\").Candidate, kg.get_ns(\"znp\").has_worked_at, kg.get_ns(\"znd\").Company)\n",
    "\n",
    "# Add city, job type, and industry\n",
    "kg.add(kg.get_ns(\"znd\").City, kg.get_ns(\"rdf\").type, kg.get_ns(\"owl\").Class)\n",
    "kg.add(kg.get_ns(\"znd\").Job_type, kg.get_ns(\"rdf\").type, kg.get_ns(\"owl\").Class)\n",
    "kg.add(kg.get_ns(\"znd\").Industry, kg.get_ns(\"rdf\").type, kg.get_ns(\"owl\").Class)\n",
    "\n",
    "# Properties\n",
    "kg.add(kg.get_ns(\"znp\").offers_function, kg.get_ns(\"owl\").inverseOf, kg.get_ns(\"znp\").function_is_offered_by)\n",
    "\n",
    "kg.add(kg.get_ns(\"znp\").has_worked_at, kg.get_ns(\"owl\").inverseOf, kg.get_ns(\"znp\").has_employed)\n",
    "\n",
    "kg.add(kg.get_ns(\"znp\").supersedes, kg.get_ns(\"owl\").inverseOf, kg.get_ns(\"znp\").subsedes)\n",
    "\n",
    "kg.add(kg.get_ns(\"znp\").falls_under, kg.get_ns(\"owl\").inverseOf, kg.get_ns(\"znp\").encompasses)\n",
    "\n",
    "# Falls under is transitive\n",
    "kg.add(kg.get_ns(\"znp\").falls_under, kg.get_ns(\"rdf\").type, kg.get_ns(\"owl\").TransitiveProperty)"
   ]
  },
  {
   "cell_type": "code",
   "execution_count": null,
   "id": "661b8aa4",
   "metadata": {},
   "outputs": [],
   "source": [
    "measure = kglab.Measure()\n",
    "measure.measure_graph(kg)\n",
    "\n",
    "print(\"edges before inference\", measure.get_edge_count())\n",
    "print(\"nodes before inference\", measure.get_node_count())\n",
    "\n",
    "# Do all the nifty inference\n",
    "kg.infer_owlrl_closure()\n",
    "\n",
    "measure.measure_graph(kg)\n",
    "\n",
    "print()\n",
    "print(\"edges after inference\", measure.get_edge_count())\n",
    "print(\"nodes after inference\", measure.get_node_count())"
   ]
  },
  {
   "cell_type": "markdown",
   "id": "4450d313-0175-48a0-bbcc-3a32f08e1dc2",
   "metadata": {},
   "source": [
    "# Add candidate data"
   ]
  },
  {
   "cell_type": "code",
   "execution_count": null,
   "id": "83ee5755",
   "metadata": {},
   "outputs": [],
   "source": [
    "for row in tqdm(actions.itertuples(), total=700938):\n",
    "    \n",
    "    # Users/positions for which we do not have any data get ignored\n",
    "    if (type(row[1]) == float) or (type(row[2]) == float):\n",
    "        continue\n",
    "    \n",
    "    kg.add(eval(f\"kg.get_ns('zne').{row[1]}\"), kg.get_ns(\"rdf\").type, kg.get_ns(\"znd\").Candidate)\n",
    "    kg.add(eval(f\"kg.get_ns('zne').{row[2]}\"), kg.get_ns(\"rdf\").type, kg.get_ns(\"znd\").Position)\n",
    "    \n",
    "    if row[3] == 1:\n",
    "        kg.add(eval(f\"kg.get_ns('zne').{row[1]}\"), kg.get_ns('znp').browsed, eval(f\"kg.get_ns('zne').{row[2]}\"))\n",
    "    if row[4] == 1:\n",
    "        kg.add(eval(f\"kg.get_ns('zne').{row[1]}\"), kg.get_ns('znp').applied, eval(f\"kg.get_ns('zne').{row[2]}\"))\n",
    "    if row[5] == 1:\n",
    "        kg.add(eval(f\"kg.get_ns('zne').{row[1]}\"), kg.get_ns('znp').fulfilled, eval(f\"kg.get_ns('zne').{row[2]}\"))"
   ]
  },
  {
   "cell_type": "code",
   "execution_count": null,
   "id": "c2357b6b",
   "metadata": {},
   "outputs": [],
   "source": [
    "for row in tqdm(users.itertuples(), total=4500):\n",
    "\n",
    "    # Add current city data\n",
    "    kg.add(eval(f\"kg.get_ns('zne').{row[1]}\"), kg.get_ns('znp').lives_in, eval(f\"kg.get_ns('zne').city_{row[2]}\"))\n",
    "    kg.add(eval(f\"kg.get_ns('zne').city_{row[2]}\"), kg.get_ns('rdf').type, kg.get_ns('znd').City)\n",
    "\n",
    "    # Add desired city data\n",
    "    if type(row[3]) == str:\n",
    "        for desired_city in row[3].split(\",\"):\n",
    "            if desired_city != \"-\":\n",
    "                kg.add(eval(f\"kg.get_ns('zne').{row[1]}\"), \n",
    "                       kg.get_ns('znp').wants_city, \n",
    "                       eval(f\"kg.get_ns('zne').city_{desired_city}\"))\n",
    "                \n",
    "                kg.add(eval(f\"kg.get_ns('zne').city_{desired_city}\"), \n",
    "                       kg.get_ns('rdf').type, \n",
    "                       kg.get_ns('znd').City)\n",
    "\n",
    "    # Add desired industry data\n",
    "    if type(row[4]) == str:\n",
    "        for desired_industry in row[4].split(\"/\"):       \n",
    "            desired_industry = re.sub('[(\\（\\().*\\,）|、)]', '', desired_industry)\n",
    "            \n",
    "            if desired_industry[0].isdigit():\n",
    "                desired_industry = \"_\" + desired_industry\n",
    "            \n",
    "            kg.add(eval(f\"kg.get_ns('zne').{row[1]}\"), \n",
    "                   kg.get_ns('znp').wants_industry, \n",
    "                   eval(f\"kg.get_ns('zne').industry_{desired_industry}\"))\n",
    "            \n",
    "            kg.add(eval(f\"kg.get_ns('zne').industry_{desired_industry}\"), \n",
    "                   kg.get_ns('rdf').type, \n",
    "                   kg.get_ns('znd').Industry)\n",
    "\n",
    "    # Add desired job type data\n",
    "    if type(row[5]) == str:\n",
    "        for desired_type in row[5].split(\"/\"):\n",
    "            desired_type = re.sub('[(\\（\\().*\\,）|、)]', '', desired_type)\n",
    "\n",
    "            kg.add(eval(f\"kg.get_ns('zne').{row[1]}\"), \n",
    "                   kg.get_ns('znp').wants_job_type, \n",
    "                   eval(f\"kg.get_ns('zne').job_type_{desired_type}\"))\n",
    "            \n",
    "            kg.add(eval(f\"kg.get_ns('zne').job_type_{desired_type}\"), \n",
    "                   kg.get_ns('rdf').type, \n",
    "                   kg.get_ns('znd').Job_type)\n",
    "\n",
    "    # Add current industry data\n",
    "    if type(row[7]) == str:\n",
    "        for current_industry in row[7].split(\"/\"):\n",
    "            current_industry = re.sub('[(\\（\\().*\\,）|、)]', '', current_industry)\n",
    "\n",
    "            kg.add(eval(f\"kg.get_ns('zne').{row[1]}\"), \n",
    "                   kg.get_ns('znp').works_in_industry, \n",
    "                   eval(f\"kg.get_ns('zne').industry_{current_industry}\"))\n",
    "            \n",
    "            kg.add(eval(f\"kg.get_ns('zne').industry_{current_industry}\"), \n",
    "                   kg.get_ns('rdf').type, \n",
    "                   kg.get_ns('znd').Industry)\n",
    "\n",
    "    # Add current job type data\n",
    "    if (type(row[8]) != str) and (not np.isnan(row[8])):\n",
    "        for current_type in row[8].split(\"/\"):\n",
    "            \n",
    "            current_type = re.sub('[(\\（\\().*\\,）|、)]', '', current_type)\n",
    "\n",
    "            kg.add(eval(f\"kg.get_ns('zne').{row[1]}\"), \n",
    "                   kg.get_ns('znp').works_in_job_type, \n",
    "                   eval(f\"kg.get_ns('zne').job_type_{current_type}\"))\n",
    "            \n",
    "            kg.add(eval(f\"kg.get_ns('zne').job_type_{current_type}\"), \n",
    "                   kg.get_ns('rdf').type, \n",
    "                   kg.get_ns('znd').Job_type)\n",
    "\n",
    "    # Add education data\n",
    "    kg.add(eval(f\"kg.get_ns('zne').{row[1]}\"), kg.get_ns('znp').has_degree, eval(f\"kg.get_ns('zne').edu_{row[10]}\"))\n",
    "\n",
    "    # Add current salary data\n",
    "    if row[9] != \"-\" and row[9] != \"--\":\n",
    "        cur_salary_low, cur_salary_high = (int(i) for i in row[9].split(\"-\"))\n",
    "    \n",
    "        kg.add(eval(f\"kg.get_ns('zne').{row[1]}\"), \n",
    "               kg.get_ns(\"znp\").has_min_salary, \n",
    "               rdflib.Literal(cur_salary_low, datatype=kg.get_ns(\"xsd\").integer))\n",
    "\n",
    "        kg.add(eval(f\"kg.get_ns('zne').{row[1]}\"), \n",
    "               kg.get_ns(\"znp\").has_max_salary, \n",
    "               rdflib.Literal(cur_salary_high, datatype=kg.get_ns(\"xsd\").integer))\n",
    "\n",
    "    # Add desired salary data\n",
    "    if row[6] != \"-\" and row[6] != \"--\":\n",
    "        desired_salary_low, desired_salary_high = (int(i) for i in row[6].split(\"-\"))\n",
    "\n",
    "        kg.add(eval(f\"kg.get_ns('zne').{row[1]}\"), \n",
    "               kg.get_ns(\"znp\").wants_min_salary, \n",
    "               rdflib.Literal(desired_salary_low, datatype=kg.get_ns(\"xsd\").integer))\n",
    "\n",
    "        kg.add(eval(f\"kg.get_ns('zne').{row[1]}\"), \n",
    "               kg.get_ns(\"znp\").wants_max_salary, \n",
    "               rdflib.Literal(desired_salary_high, datatype=kg.get_ns(\"xsd\").integer))\n",
    "    \n",
    "    # Add birthday data\n",
    "    kg.add(eval(f\"kg.get_ns('zne').{row[1]}\"), \n",
    "           kg.get_ns(\"znp\").has_birthday, \n",
    "           rdflib.Literal(int(row[11]), datatype=kg.get_ns(\"xsd\").integer))\n",
    "\n",
    "    # Add years expereince data\n",
    "    if row[12] != \"-\":   \n",
    "        kg.add(eval(f\"kg.get_ns('zne').{row[1]}\"),\n",
    "               kg.get_ns(\"znp\").started_work_in,\n",
    "               rdflib.Literal(int(row[12]), datatype=kg.get_ns(\"xsd\").integer))\n",
    "    "
   ]
  },
  {
   "cell_type": "code",
   "execution_count": null,
   "id": "4bf7c574",
   "metadata": {},
   "outputs": [],
   "source": [
    "# Count nodes and edges\n",
    "measure.measure_graph(kg)\n",
    "\n",
    "print()\n",
    "print(\"edges:\", measure.get_edge_count())\n",
    "print(\"nodes:\", measure.get_node_count())"
   ]
  },
  {
   "cell_type": "markdown",
   "id": "4cdae8bf-4d1d-4eb9-889c-e4e5b37507d7",
   "metadata": {},
   "source": [
    "# Add vacancy data"
   ]
  },
  {
   "cell_type": "code",
   "execution_count": null,
   "id": "5128d604",
   "metadata": {},
   "outputs": [],
   "source": [
    "for row in tqdm(jds.itertuples(), total=265690):    \n",
    "    kg.add(eval(f\"kg.get_ns('zne').{row[1]}\"), kg.get_ns('znp').is_stationed_in, eval(f\"kg.get_ns('zne').city{row[4]}\"))\n",
    "    kg.add(eval(f\"kg.get_ns('zne').city{row[4]}\"), kg.get_ns('rdf').type, kg.get_ns('znd').City)\n",
    "\n",
    "    # Add job type data\n",
    "    if type(row[5]) == str and (row[5] != r\"\\N\"):\n",
    "        for job_type in row[5].split(\"/\"):\n",
    "            job_type = re.sub('[(\\（\\().*\\,）|、)]', '', job_type)\n",
    "            \n",
    "            if job_type[0].isdigit():\n",
    "                job_type = \"_\" + job_type\n",
    "\n",
    "            kg.add(eval(f\"kg.get_ns('zne').{row[1]}\"), \n",
    "                   kg.get_ns('znp').is_job_type, \n",
    "                   eval(f\"kg.get_ns('zne').job_type_{job_type}\"))\n",
    "            \n",
    "            kg.add(eval(f\"kg.get_ns('zne').job_type_{job_type}\"), \n",
    "                   kg.get_ns('rdf').type, \n",
    "                   kg.get_ns('znd').Job_type)\n",
    "\n",
    "    # Add education data\n",
    "    if type(row[14]) == str:\n",
    "        if row[14] != \"\\\\N\":\n",
    "            kg.add(eval(f\"kg.get_ns('zne').{row[1]}\"), \n",
    "                   kg.get_ns('znp').requires_min_edu, \n",
    "                   eval(f\"kg.get_ns('zne').edu_{row[14]}\"))\n",
    "        \n",
    "    if type(row[15]) == str:\n",
    "        if row[15] != \"\\\\N\":\n",
    "            kg.add(eval(f\"kg.get_ns('zne').{row[1]}\"), \n",
    "                   kg.get_ns('znp').max_edu_level, \n",
    "                   eval(f\"kg.get_ns('zne').edu_{row[15]}\"))\n",
    "\n",
    "    # Add salary data\n",
    "    kg.add(eval(f\"kg.get_ns('zne').{row[1]}\"), \n",
    "           kg.get_ns(\"znp\").offers_min_salary, \n",
    "           rdflib.Literal(int(row[8]), datatype=kg.get_ns(\"xsd\").integer))\n",
    "    \n",
    "    kg.add(eval(f\"kg.get_ns('zne').{row[1]}\"), \n",
    "           kg.get_ns(\"znp\").offers_max_salary, \n",
    "           rdflib.Literal(int(row[7]), datatype=kg.get_ns(\"xsd\").integer))\n",
    "\n",
    "    # Add travel data\n",
    "    kg.add(eval(f\"kg.get_ns('zne').{row[1]}\"), \n",
    "           kg.get_ns(\"znp\").requires_travel, \n",
    "           rdflib.Literal(bool(row[11]), datatype=kg.get_ns(\"xsd\").bool))\n",
    "\n",
    "    # Add required years of experience data\n",
    "    kg.add(eval(f\"kg.get_ns('zne').{row[1]}\"),\n",
    "           kg.get_ns(\"znp\").requires_years,\n",
    "           rdflib.Literal(int(row[12]), datatype=kg.get_ns(\"xsd\").integer))"
   ]
  },
  {
   "cell_type": "code",
   "execution_count": null,
   "id": "89ef9dd9",
   "metadata": {},
   "outputs": [],
   "source": [
    "# Check the increase in nodes/edges after inference\n",
    "\n",
    "measure = kglab.Measure()\n",
    "measure.measure_graph(kg)\n",
    "\n",
    "print(\"edges before inference\", measure.get_edge_count())\n",
    "print(\"nodes before inference\", measure.get_node_count())\n",
    "\n",
    "# Do all the nifty inference\n",
    "kg.infer_owlrl_closure()\n",
    "\n",
    "measure.measure_graph(kg)\n",
    "\n",
    "print()\n",
    "print(\"edges after inference\", measure.get_edge_count())\n",
    "print(\"nodes after inference\", measure.get_node_count())"
   ]
  },
  {
   "cell_type": "markdown",
   "id": "f64d6caa-84fc-4e8b-9425-edfa47eb47ae",
   "metadata": {},
   "source": [
    "# Store the knowledge graph "
   ]
  },
  {
   "cell_type": "code",
   "execution_count": null,
   "id": "30c14515-c129-4dd8-8b08-10e89e6b225c",
   "metadata": {},
   "outputs": [],
   "source": [
    "kgt = kglab.SubgraphTensor(kg)\n",
    "\n",
    "del kg\n",
    "\n",
    "with open(\"kg.edgelist\", \"w+\", encoding=\"utf-8\") as f:\n",
    "    \n",
    "    for i, (s, p, o) in tqdm(enumerate(kgt.as_tuples()), total=3053437):\n",
    "            s_label = kgt.n3fy(s)\n",
    "            # s_id = kgt.transform(s_label)\n",
    "\n",
    "            p_label = kgt.n3fy(p)\n",
    "            # p_id = kgt.transform(p_label)\n",
    "\n",
    "            o_label = kgt.n3fy(o)\n",
    "            # o_id = kgt.transform(o_label)\n",
    "\n",
    "            # print([s_id, o_id, 2 * p_id])\n",
    "            # print([o_id, s_id, 2 * p_id + 1])\n",
    "\n",
    "            f.write(f\"['{s_label}', '{p_label}', '{o_label}']\\n\")"
   ]
  },
  {
   "cell_type": "code",
   "execution_count": null,
   "id": "8d4c3258",
   "metadata": {},
   "outputs": [],
   "source": []
  }
 ],
 "metadata": {
  "kernelspec": {
   "display_name": "Python 3 (ipykernel)",
   "language": "python",
   "name": "python3"
  },
  "language_info": {
   "codemirror_mode": {
    "name": "ipython",
    "version": 3
   },
   "file_extension": ".py",
   "mimetype": "text/x-python",
   "name": "python",
   "nbconvert_exporter": "python",
   "pygments_lexer": "ipython3",
   "version": "3.12.4"
  }
 },
 "nbformat": 4,
 "nbformat_minor": 5
}
